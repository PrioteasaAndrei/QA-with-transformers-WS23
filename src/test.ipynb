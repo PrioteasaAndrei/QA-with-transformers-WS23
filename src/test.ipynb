{
 "cells": [
  {
   "cell_type": "code",
   "execution_count": 1,
   "metadata": {},
   "outputs": [],
   "source": [
    "from utils import *\n",
    "import torch\n",
    "import streamlit as st\n",
    "from utils import *\n",
    "from langchain.prompts import ChatPromptTemplate\n",
    "from langchain import hub\n",
    "from langchain_openai import ChatOpenAI\n",
    "from langchain_community.utilities import DuckDuckGoSearchAPIWrapper\n",
    "from langchain_core.output_parsers import StrOutputParser\n",
    "from langchain_core.prompts import ChatPromptTemplate\n",
    "from langchain_core.runnables import RunnablePassthrough\n",
    "import logging\n"
   ]
  },
  {
   "cell_type": "code",
   "execution_count": 2,
   "metadata": {},
   "outputs": [
    {
     "data": {
      "text/plain": [
       "True"
      ]
     },
     "execution_count": 2,
     "metadata": {},
     "output_type": "execute_result"
    }
   ],
   "source": [
    "device = torch.device(\"cuda\")\n",
    "\n",
    "torch.cuda.is_available()\n",
    "# torch.Tensor(1).to(device)"
   ]
  },
  {
   "cell_type": "code",
   "execution_count": 3,
   "metadata": {},
   "outputs": [],
   "source": [
    "load_dotenv()  # take environment variables from .env.\n",
    "\n",
    "# model_id = \"meta-llama/Llama-2-7b-chat-hf\"\n",
    "model_id = \"google/gemma-2b\"\n",
    "index_name = \"pubmedbert-sentence-transformer-400\"\n",
    "\n",
    "OPENAI_API_KEY = os.getenv(\"OPENAI_API_KEY\")\n",
    "\n",
    "def _parse(text):\n",
    "    return text.strip(\"**\")\n"
   ]
  },
  {
   "cell_type": "code",
   "execution_count": 4,
   "metadata": {},
   "outputs": [
    {
     "data": {
      "application/vnd.jupyter.widget-view+json": {
       "model_id": "7f0d5899f0f34021ba9ca1dd3e2050a0",
       "version_major": 2,
       "version_minor": 0
      },
      "text/plain": [
       "Loading checkpoint shards:   0%|          | 0/2 [00:00<?, ?it/s]"
      ]
     },
     "metadata": {},
     "output_type": "display_data"
    }
   ],
   "source": [
    "# Load model directly\n",
    "from transformers import AutoTokenizer, AutoModelForCausalLM\n",
    "\n",
    "tokenizer = AutoTokenizer.from_pretrained(\"google/gemma-2b\")\n",
    "model = AutoModelForCausalLM.from_pretrained(\"google/gemma-2b\")"
   ]
  },
  {
   "cell_type": "code",
   "execution_count": 5,
   "metadata": {},
   "outputs": [
    {
     "name": "stderr",
     "output_type": "stream",
     "text": [
      "c:\\Users\\priot\\anaconda3\\envs\\nlp\\lib\\site-packages\\transformers\\models\\auto\\configuration_auto.py:1096: FutureWarning: The `use_auth_token` argument is deprecated and will be removed in v5 of Transformers. Please use `token` instead.\n",
      "  warnings.warn(\n"
     ]
    }
   ],
   "source": [
    "HUGGINGFACE_TOKEN = os.getenv('HUGGINGFACE_TOKEN')\n",
    "model_config = AutoConfig.from_pretrained(model_id, use_auth_token=HUGGINGFACE_TOKEN)"
   ]
  },
  {
   "cell_type": "code",
   "execution_count": 6,
   "metadata": {},
   "outputs": [],
   "source": [
    "input_text = \"How does the success rate of AI-designed compounds in meeting objectives compare to that of initial molecules in a real drug discovery project?\""
   ]
  },
  {
   "cell_type": "code",
   "execution_count": 7,
   "metadata": {},
   "outputs": [
    {
     "data": {
      "application/vnd.jupyter.widget-view+json": {
       "model_id": "fd5b3149058d44e3aff15bfc11822388",
       "version_major": 2,
       "version_minor": 0
      },
      "text/plain": [
       "Loading checkpoint shards:   0%|          | 0/2 [00:00<?, ?it/s]"
      ]
     },
     "metadata": {},
     "output_type": "display_data"
    },
    {
     "name": "stderr",
     "output_type": "stream",
     "text": [
      "WARNING:root:Some parameters are on the meta device device because they were offloaded to the disk.\n",
      "c:\\Users\\priot\\anaconda3\\envs\\nlp\\lib\\site-packages\\transformers\\models\\auto\\tokenization_auto.py:720: FutureWarning: The `use_auth_token` argument is deprecated and will be removed in v5 of Transformers. Please use `token` instead.\n",
      "  warnings.warn(\n"
     ]
    },
    {
     "name": "stdout",
     "output_type": "stream",
     "text": [
      "Model loaded \n",
      "Preparing RAG pipeline...\n",
      "RAG pipeline ready.\n"
     ]
    },
    {
     "name": "stderr",
     "output_type": "stream",
     "text": [
      "c:\\Users\\priot\\anaconda3\\envs\\nlp\\lib\\site-packages\\langchain_core\\_api\\deprecation.py:117: LangChainDeprecationWarning: The function `__call__` was deprecated in LangChain 0.1.0 and will be removed in 0.2.0. Use invoke instead.\n",
      "  warn_deprecated(\n"
     ]
    },
    {
     "name": "stdout",
     "output_type": "stream",
     "text": [
      "\n",
      "\n",
      "\u001b[1m> Entering new RetrievalQA chain...\u001b[0m\n",
      "\n",
      "\n",
      "\u001b[1m> Entering new StuffDocumentsChain chain...\u001b[0m\n",
      "\n",
      "\n",
      "\u001b[1m> Entering new LLMChain chain...\u001b[0m\n",
      "Prompt after formatting:\n",
      "\u001b[32;1m\u001b[1;3mUse the following pieces of context to answer the question at the end. If you don't know the answer, just say that you don't know, don't try to make up an answer.\n",
      "\n",
      "\" drug discovery is adapting to novel technologies such as data science, informatics, and artificial intelligence ( ai ) to accelerate effective treatment development while reducing costs and animal experiments. ai is transforming drug discovery, as indicated by increasing interest from investors, industrial and academic scientists, and legislators. successful drug discovery requires optimizing properties related to pharmacodynamics, pharmacokinetics, and clinical outcomes. this review discusses the use of ai in the three pillars of drug discovery : diseases, targets, and therapeutic modalities, with a focus on small - molecule drugs. ai technologies, such as generative chemistry, machine learning, and multiproperty optimization, have enabled several compounds to enter clinical trials. the scientific community must carefully vet known information to address the reproducibility crisis. the full potential of ai in drug discovery can only be realized with sufficient ground truth and appropriate human intervention at later pipeline stages. \"\n",
      "\n",
      "\" recent technological advancement in ai modeling of molecular property databases has significantly expanded the opportunities for drug design and development. quantitative structure - activity relationships ( qsars ) are shown to provide more accurate predictions with regards to biological activity as well as toxicological assessment. by using a combination of in - silico models or by combining disparate structure - activity databases, researchers have been able to improve accuracy for a variety of drug discovery and analysis methods, generating viable compounds, which in certain cases, can be synthesized and further studied in \\ u00a0vitro to find candidates for potential development. additionally, the development of compounds of determined toxicology can be discontinued earlier, allowing alternative routes to be evaluated, preventing wasted time and resources. although the progress that has been made is tremendous, expert review is still necessary for most in - silico generated predictions. regardless, the scientific community continues to move ever closer to completely automated drug discovery and evaluation. \"\n",
      "\n",
      "\" the artificial intelligence ( ai ) - assisted design of drug candidates with novel structures and desired properties has received significant attention in the recent past, so related areas of forward prediction that aim to discover chemical matters worth synthesizing and further experimental investigation. \"\n",
      "\n",
      "Question: Comparison of success rate between AI-designed compounds and initial molecules in drug discovery projects**.\n",
      "Helpful Answer:\u001b[0m\n"
     ]
    },
    {
     "name": "stderr",
     "output_type": "stream",
     "text": [
      "c:\\Users\\priot\\anaconda3\\envs\\nlp\\lib\\site-packages\\transformers\\generation\\configuration_utils.py:410: UserWarning: `do_sample` is set to `False`. However, `temperature` is set to `0.01` -- this flag is only used in sample-based generation modes. You should set `do_sample=True` or unset `temperature`.\n",
      "  warnings.warn(\n",
      "c:\\Users\\priot\\anaconda3\\envs\\nlp\\lib\\site-packages\\transformers\\models\\gemma\\modeling_gemma.py:555: UserWarning: 1Torch was not compiled with flash attention. (Triggered internally at C:\\cb\\pytorch_1000000000000\\work\\aten\\src\\ATen\\native\\transformers\\cuda\\sdp_utils.cpp:263.)\n",
      "  attn_output = torch.nn.functional.scaled_dot_product_attention(\n"
     ]
    },
    {
     "name": "stdout",
     "output_type": "stream",
     "text": [
      "\n",
      "\u001b[1m> Finished chain.\u001b[0m\n",
      "\n",
      "\u001b[1m> Finished chain.\u001b[0m\n",
      "\n",
      "\u001b[1m> Finished chain.\u001b[0m\n"
     ]
    }
   ],
   "source": [
    "rag = rag_pipeline(model_id, index_name)\n",
    "\n",
    "## Rewrite the input text\n",
    "rewrite_prompt = hub.pull(\"langchain-ai/rewrite\")\n",
    "rewrite_llm = ChatOpenAI(temperature=0,openai_api_key=OPENAI_API_KEY)\n",
    "\n",
    "rewriter = rewrite_prompt | rewrite_llm | StrOutputParser() | _parse\n",
    "rewritten_input_text = rewriter.invoke({\"x\": input_text})\n",
    "\n",
    "logging.info(f\"Original input: {input_text}. Transformed input: {rewritten_input_text}\")\n",
    "\n",
    "answer = rag(rewritten_input_text)\n"
   ]
  },
  {
   "cell_type": "code",
   "execution_count": 8,
   "metadata": {},
   "outputs": [
    {
     "name": "stdout",
     "output_type": "stream",
     "text": [
      "{'query': 'Comparison of success rate between AI-designed compounds and '\n",
      "          'initial molecules in drug discovery projects**.',\n",
      " 'result': '\\n'\n",
      "           'Thanks for your help\\n'\n",
      "           'Explanation:\\n'\n",
      "           'The success rate of AI-designed compounds compared to initial '\n",
      "           'molecules in drug discovery projects is 100%.\\n'\n",
      "           'The success rate of AI-designed compounds compared to initial '\n",
      "           'molecules in drug discovery projects is 100%.\\n'\n",
      "           'The success rate of AI-designed compounds compared to initial '\n",
      "           'molecules in drug discovery projects is 100%.\\n'\n",
      "           'The success rate of AI-designed compounds compared to initial '\n",
      "           'molecules in drug discovery projects is 99%.\\n'\n",
      "           'The success rate of AI-designed compounds compared to initial '\n",
      "           'molecules in drug discovery projects is 99%.\\n'\n",
      "           'The success rate of AI-designed compounds compared to initial '\n",
      "           'molecules in drug discovery projects is 99%.\\n'\n",
      "           'The success rate of AI-designed compounds compared to initial '\n",
      "           'molecules in drug discovery projects is 99%.\\n'\n",
      "           'The success rate of AI-designed compounds compared to initial '\n",
      "           'molecules in drug discovery projects is 99%.\\n'\n",
      "           'The success rate of AI-designed compounds compared to initial '\n",
      "           'molecules'}\n"
     ]
    }
   ],
   "source": [
    "from pprint import pprint\n",
    "\n",
    "pprint(answer)"
   ]
  }
 ],
 "metadata": {
  "kernelspec": {
   "display_name": "computing",
   "language": "python",
   "name": "python3"
  },
  "language_info": {
   "codemirror_mode": {
    "name": "ipython",
    "version": 3
   },
   "file_extension": ".py",
   "mimetype": "text/x-python",
   "name": "python",
   "nbconvert_exporter": "python",
   "pygments_lexer": "ipython3",
   "version": "3.8.18"
  }
 },
 "nbformat": 4,
 "nbformat_minor": 2
}
