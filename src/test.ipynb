{
 "cells": [
  {
   "cell_type": "code",
   "execution_count": 1,
   "metadata": {},
   "outputs": [],
   "source": [
    "from utils import *\n",
    "import torch\n",
    "import streamlit as st\n",
    "from utils import *\n",
    "from langchain.prompts import ChatPromptTemplate\n",
    "from langchain import hub\n",
    "from langchain_openai import ChatOpenAI\n",
    "from langchain_community.utilities import DuckDuckGoSearchAPIWrapper\n",
    "from langchain_core.output_parsers import StrOutputParser\n",
    "from langchain_core.prompts import ChatPromptTemplate\n",
    "from langchain_core.runnables import RunnablePassthrough\n",
    "import logging\n",
    "from importlib import reload\n"
   ]
  },
  {
   "cell_type": "code",
   "execution_count": 2,
   "metadata": {},
   "outputs": [
    {
     "data": {
      "text/plain": [
       "True"
      ]
     },
     "execution_count": 2,
     "metadata": {},
     "output_type": "execute_result"
    }
   ],
   "source": [
    "device = torch.device(\"cuda\")\n",
    "torch.cuda.is_available()\n",
    "# torch.Tensor(1).to(device)\n",
    "\n",
    "# reload(src/utils)"
   ]
  },
  {
   "cell_type": "code",
   "execution_count": 3,
   "metadata": {},
   "outputs": [],
   "source": [
    "load_dotenv()  # take environment variables from .env.\n",
    "index_name = \"pubmedbert-sentence-transformer-400\"\n",
    "HUGGINGFACE_TOKEN = os.getenv('HUGGINGFACE_TOKEN')\n",
    "HUGGINGFACE_USERNAME = os.getenv('HUGGINGFACE_USERNAME')\n",
    "HUGGINGFACE_DATASET_NAME = os.getenv('HUGGINGFACE_DATASET_NAME')\n",
    "ELASTIC_CLOUD_ID = os.getenv('ELASTIC_CLOUD_ID')\n",
    "ELASTIC_API_KEY = os.getenv('ELASTIC_API_KEY')\n",
    "QA_VALIDATION_DATASET = os.getenv('QA_VALIDATION_DATASET')\n",
    "QA_VALIDATION_TOKEN = os.getenv('QA_VALIDATION_TOKEN')\n",
    "OPENAI_API_KEY = os.getenv('OPENAI_API_KEY')\n",
    "def _parse(text):\n",
    "    return text.strip(\"**\")\n"
   ]
  },
  {
   "cell_type": "code",
   "execution_count": 4,
   "metadata": {},
   "outputs": [],
   "source": [
    "\n",
    "model_name = \"NeuML/pubmedbert-base-embeddings\"\n",
    "device = 'cuda:0'\n",
    "embeddings = HuggingFaceEmbeddings(\n",
    "    model_name=model_name,\n",
    "    model_kwargs={'device': device},\n",
    "    encode_kwargs={'device': device}\n",
    ")\n",
    "\n",
    "elastic_vector_search = ElasticsearchStore(\n",
    "        es_cloud_id = ELASTIC_CLOUD_ID,\n",
    "        index_name = index_name,\n",
    "        embedding = embeddings,\n",
    "        es_api_key = ELASTIC_API_KEY\n",
    ")\n",
    "\n",
    "retriever = elastic_vector_search.as_retriever(search_kwargs={\"k\":3})\n"
   ]
  },
  {
   "cell_type": "code",
   "execution_count": 5,
   "metadata": {},
   "outputs": [
    {
     "name": "stdout",
     "output_type": "stream",
     "text": [
      "[Document(page_content='\" until now, i have not responded to the undocumented and untrue portrayal of me in the hoffman report, or the newspaper and email accounts of my alleged role in \\\\ \" torture. \\\\ \" i have waited several years because i believed that the american psychological association leadership would completely disavow the hoffman report and find a way to restore my reputation as well as that of the other former american psychological association presidents and the small number of its senior staff who were also falsely accused. although this has not yet happened, i remain optimistic that it will. here i present the facts as they relate to me. \"', metadata={'title': 'The American Psychological Association\\'s Hoffman report allegations of my association with the \"CIA torture\" program.', 'publication_date': '03/09/2018', 'id': 11112, 'authors': ['Joseph D Matarazzo']}), Document(page_content='##y and know yourself, you need not fear the result of a hundred battles.\\'\"', metadata={'title': 'The periodontal war: microbes and immunity.', 'publication_date': '', 'id': 3088, 'authors': ['Jeffrey L Ebersole', 'Dolph Dawson', 'Pinar Emecen-Huja', 'Radhakrishnan Nagarajan', 'Katherine Howard', 'Martha E Grady', 'Katherine Thompson', 'Rebecca Peyyala', 'Ahmad Al-Attar', 'Kathryn Lethbridge', 'Sreenatha Kirakodu', 'Octavio A Gonzalez']}), Document(page_content='\" getting to know erwin knecht is not so simple. this view was summarized in a comment from dr. marta martinez vicente, who obtained her phd degree working in a lab that shared space with erwin\\'s group : \\\\ \" erwin knecht is a complex character, who awakens contradictory feelings. to define him i would say that he is a mixture of intelligence and madness, he\\'s witty, very funny but also grumpy and cranky, all mixed and all simultaneously. without a doubt he is a person who will not leave anyone indifferent, his original personality marked all who crossed his path, doctoral students, collaborators, people who attended his talks, etc \\\\ u2026 i remember the weekly lab meetings with him ; we, the students, had a lot of respect for him ( not to mention fear ), but his comments were always smart, helpful and constructive, he has always been prone to helping everyone. in the lab, he was extremely demanding, but got people under his supervision to do their best. and despite his usual moodiness, he managed to make everyone love him and have a special affection for him. above all, i remember his screams throughout the laboratory that could be heard from all over the building, calling out to his laboratory technician :\\'asunci \\\\ u00f3n!\\'they were like an old couple, arguing all day but they couldn\\'t be without each other, it was like watching a sitcom every day. \\\\ \" if you are intrigued, please read on. \"', metadata={'title': 'Erwin Knecht-the intelligent and mad, funny and grumpy man of autophagy.', 'publication_date': '23/09/2021', 'id': 32327, 'authors': ['Erwin Knecht', 'Daniel J Klionsky']})]\n"
     ]
    }
   ],
   "source": [
    "print(retriever.get_relevant_documents(\"what did he say about ketanji brown jackson\"))"
   ]
  },
  {
   "cell_type": "code",
   "execution_count": 19,
   "metadata": {},
   "outputs": [],
   "source": [
    "query = \"What were the most commonly used methods for bone age assessment in the studies reviewed?\""
   ]
  },
  {
   "cell_type": "code",
   "execution_count": 20,
   "metadata": {},
   "outputs": [
    {
     "name": "stdout",
     "output_type": "stream",
     "text": [
      "Most commonly used methods for bone age assessment in medical studies**.\n"
     ]
    }
   ],
   "source": [
    "# rag = rag_pipeline(model_id, index_name)\n",
    "\n",
    "## Rewrite the input text\n",
    "rewrite_prompt = hub.pull(\"langchain-ai/rewrite\")\n",
    "rewrite_llm = ChatOpenAI(temperature=0,openai_api_key=OPENAI_API_KEY)\n",
    "\n",
    "rewriter = rewrite_prompt | rewrite_llm | StrOutputParser() | _parse\n",
    "rewritten_input_text = rewriter.invoke({\"x\": query})\n",
    "\n",
    "logging.info(f\"Original input: {query}. Transformed input: {rewritten_input_text}\")\n",
    "\n",
    "print(rewritten_input_text)"
   ]
  },
  {
   "cell_type": "code",
   "execution_count": 26,
   "metadata": {},
   "outputs": [
    {
     "name": "stdout",
     "output_type": "stream",
     "text": [
      "\" the accuracy and consistency of bone age assessments ( baa ) using standard methods can vary with physicians'level of experience. \"\n",
      "\" bone age is one of biological indicators of maturity used in clinical practice and it is a very important parameter of a child \\ u2019s assessment, especially in paediatric endocrinology. the most widely used method of bone age assessment is by performing a hand and wrist radiograph and its analysis with greulich - pyle or tanner - whitehouse atlases, although it has been about 60 years since they were published. due to the progress in the area of computer - aided diagnosis and application of artificial intelligence in medicine, lately, numerous programs for automatic bone age assessment have been created. most of them have been verified in clinical studies in comparison to traditional methods, showing good precision while eliminating inter - and intra - rater variability and significantly reducing the time of assessment. additionally, there are available methods for assessment of bone age which avoid x - ray exposure, using modalities such as ultrasound or magnetic resonance imaging. \"\n",
      "\" bone age is one of biological indicators of maturity used in clinical practice and it is a very important parameter of a child \\ u2019s assessment, especially in paediatric endocrinology. the most widely used method of bone age assessment is by performing a hand and wrist radiograph and its analysis with greulich - pyle or tanner - whitehouse atlases, although it has been about 60 years since they were published. due to the progress in the area of computer - aided diagnosis and application of artificial intelligence in medicine, lately, numerous programs for automatic bone age assessment have been created. most of them have been verified in clinical studies in comparison to traditional methods, showing good precision while eliminating inter - and intra - rater variability and significantly reducing the time of assessment. additionally, there are available methods for assessment of bone age which avoid x - ray exposure, using modalities such as ultrasound or magnetic resonance imaging. \"\n"
     ]
    }
   ],
   "source": [
    "docs = retriever.get_relevant_documents(rewritten_input_text)\n",
    "\n",
    "for doc in docs:\n",
    "    print(doc.page_content)"
   ]
  },
  {
   "cell_type": "code",
   "execution_count": 21,
   "metadata": {},
   "outputs": [
    {
     "name": "stdout",
     "output_type": "stream",
     "text": [
      "---- Answer ----\n",
      "Hand and wrist radiograph analysis with Greulich-Pyle or Tanner-Whitehouse atlases is the most commonly used method for bone age assessment in medical studies.\n"
     ]
    }
   ],
   "source": [
    "model = ChatOpenAI(temperature=0,openai_api_key=OPENAI_API_KEY)\n",
    "\n",
    "ANSWER_PROMPT = ChatPromptTemplate.from_template(\n",
    "    \"\"\"You are an assistant for question-answering tasks. Use the following pieces of retrieved context to answer the question. If you don't know the answer, just say that you don't know. Be as verbose and educational in your response as possible. Keep your answers shorter than 25 words.\n",
    "    \n",
    "    context: {context}\n",
    "    Question: \"{question}\"\n",
    "    Answer:\n",
    "    \"\"\"\n",
    ")\n",
    "\n",
    "ANSWER_PROMPT_medical= ChatPromptTemplate.from_template(\n",
    "    \"\"\"You are an assistant for question-answering tasks. Use the following pieces of retrieved context to answer the question. If you don't know the answer, just say that you don't know. Assume that the reader has in depth knowledge into the medical field and is familiar with all the terms used, so they do not need to be explained. Keep your answers shorter than 25 words.\n",
    "    \n",
    "    context: {context}\n",
    "    Question: \"{question}\"\n",
    "    Answer:\n",
    "    \"\"\"\n",
    ")\n",
    "\n",
    "chain = (\n",
    "    {\"context\": retriever, \"question\": RunnablePassthrough()}\n",
    "    | ANSWER_PROMPT_medical\n",
    "    | model\n",
    "    | StrOutputParser()\n",
    ")\n",
    "\n",
    "ans = chain.invoke(rewritten_input_text)\n",
    "\n",
    "print(\"---- Answer ----\")\n",
    "print(ans)"
   ]
  },
  {
   "cell_type": "code",
   "execution_count": null,
   "metadata": {},
   "outputs": [],
   "source": []
  },
  {
   "cell_type": "code",
   "execution_count": null,
   "metadata": {},
   "outputs": [],
   "source": [
    "## The grand scientific challenge in materials research is to accelerate materials discovery and development for emerging and future technologies by integrating automation with artificial intelligence\n",
    "# \"Between 2019 Q4 and 2020 Q3 phenethyl 4 ANPP was detected in 25 1 054 fentanyl cases in the USA\""
   ]
  },
  {
   "cell_type": "code",
   "execution_count": 16,
   "metadata": {},
   "outputs": [
    {
     "ename": "TypeError",
     "evalue": "dump() missing 1 required positional argument: 'fp'",
     "output_type": "error",
     "traceback": [
      "\u001b[1;31m---------------------------------------------------------------------------\u001b[0m",
      "\u001b[1;31mTypeError\u001b[0m                                 Traceback (most recent call last)",
      "Cell \u001b[1;32mIn[16], line 14\u001b[0m\n\u001b[0;32m     11\u001b[0m     item[\u001b[38;5;124m\"\u001b[39m\u001b[38;5;124mgenerated_answer\u001b[39m\u001b[38;5;124m\"\u001b[39m] \u001b[38;5;241m=\u001b[39m ans\n\u001b[0;32m     13\u001b[0m \u001b[38;5;28;01mwith\u001b[39;00m \u001b[38;5;28mopen\u001b[39m(\u001b[38;5;124m\"\u001b[39m\u001b[38;5;124m../data/evaluation_dataset_openai.json\u001b[39m\u001b[38;5;124m\"\u001b[39m, \u001b[38;5;124m'\u001b[39m\u001b[38;5;124mw\u001b[39m\u001b[38;5;124m'\u001b[39m) \u001b[38;5;28;01mas\u001b[39;00m file:\n\u001b[1;32m---> 14\u001b[0m     file\u001b[38;5;241m.\u001b[39mwrite(\u001b[43mjson\u001b[49m\u001b[38;5;241;43m.\u001b[39;49m\u001b[43mdump\u001b[49m\u001b[43m(\u001b[49m\u001b[43mmanual_inspection\u001b[49m\u001b[43m,\u001b[49m\u001b[43m \u001b[49m\u001b[43mindent\u001b[49m\u001b[38;5;241;43m=\u001b[39;49m\u001b[38;5;241;43m2\u001b[39;49m\u001b[43m)\u001b[49m)\n",
      "\u001b[1;31mTypeError\u001b[0m: dump() missing 1 required positional argument: 'fp'"
     ]
    }
   ],
   "source": [
    "import json\n",
    "\n",
    "with open(\"../data/evaluation_dataset.json\", 'r') as file:\n",
    "    json_data = file.read()\n",
    "\n",
    "manual_inspection = json.loads(json_data)\n",
    "\n",
    "for item in manual_inspection:\n",
    "    ans = chain.invoke(rewriter.invoke({\"x\": item[\"question\"]}))\n",
    "    # print(\"Question: {}\\nGround truth: {}\\nGenerated answer: {}\\n\\n\".format(item[\"question\"], item[\"paragraph\"], ans))\n",
    "    item[\"generated_answer\"] = ans\n"
   ]
  },
  {
   "cell_type": "code",
   "execution_count": 18,
   "metadata": {},
   "outputs": [],
   "source": [
    "\n",
    "with open(\"../data/evaluation_dataset_openai.json\", 'w') as file:\n",
    "    json.dump(manual_inspection,file, indent=2)"
   ]
  }
 ],
 "metadata": {
  "kernelspec": {
   "display_name": "computing",
   "language": "python",
   "name": "python3"
  },
  "language_info": {
   "codemirror_mode": {
    "name": "ipython",
    "version": 3
   },
   "file_extension": ".py",
   "mimetype": "text/x-python",
   "name": "python",
   "nbconvert_exporter": "python",
   "pygments_lexer": "ipython3",
   "version": "3.8.18"
  }
 },
 "nbformat": 4,
 "nbformat_minor": 2
}
