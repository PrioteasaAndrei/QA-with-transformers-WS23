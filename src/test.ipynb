{
 "cells": [
  {
   "cell_type": "code",
   "execution_count": 1,
   "metadata": {},
   "outputs": [],
   "source": [
    "from utils import *\n",
    "import torch\n",
    "import streamlit as st\n",
    "from utils import *\n",
    "from langchain.prompts import ChatPromptTemplate\n",
    "from langchain import hub\n",
    "from langchain_openai import ChatOpenAI\n",
    "from langchain_community.utilities import DuckDuckGoSearchAPIWrapper\n",
    "from langchain_core.output_parsers import StrOutputParser\n",
    "from langchain_core.prompts import ChatPromptTemplate\n",
    "from langchain_core.runnables import RunnablePassthrough\n",
    "import logging\n",
    "from importlib import reload\n"
   ]
  },
  {
   "cell_type": "code",
   "execution_count": 2,
   "metadata": {},
   "outputs": [
    {
     "data": {
      "text/plain": [
       "True"
      ]
     },
     "execution_count": 2,
     "metadata": {},
     "output_type": "execute_result"
    }
   ],
   "source": [
    "device = torch.device(\"cuda\")\n",
    "torch.cuda.is_available()\n",
    "# torch.Tensor(1).to(device)\n",
    "\n",
    "# reload(src/utils)"
   ]
  },
  {
   "cell_type": "code",
   "execution_count": 3,
   "metadata": {},
   "outputs": [],
   "source": [
    "load_dotenv()  # take environment variables from .env.\n",
    "index_name = \"pubmedbert-sentence-transformer-100\"\n",
    "HUGGINGFACE_TOKEN = os.getenv('HUGGINGFACE_TOKEN')\n",
    "HUGGINGFACE_USERNAME = os.getenv('HUGGINGFACE_USERNAME')\n",
    "HUGGINGFACE_DATASET_NAME = os.getenv('HUGGINGFACE_DATASET_NAME')\n",
    "ELASTIC_CLOUD_ID = os.getenv('ELASTIC_CLOUD_ID')\n",
    "ELASTIC_API_KEY = os.getenv('ELASTIC_API_KEY')\n",
    "QA_VALIDATION_DATASET = os.getenv('QA_VALIDATION_DATASET')\n",
    "QA_VALIDATION_TOKEN = os.getenv('QA_VALIDATION_TOKEN')\n",
    "OPENAI_API_KEY = os.getenv('OPENAI_API_KEY')\n",
    "def _parse(text):\n",
    "    return text.strip(\"**\")\n"
   ]
  },
  {
   "cell_type": "code",
   "execution_count": 4,
   "metadata": {},
   "outputs": [],
   "source": [
    "\n",
    "model_name = \"NeuML/pubmedbert-base-embeddings\"\n",
    "device = 'cuda:0'\n",
    "embeddings = HuggingFaceEmbeddings(\n",
    "    model_name=model_name,\n",
    "    model_kwargs={'device': device},\n",
    "    encode_kwargs={'device': device}\n",
    ")\n",
    "\n",
    "elastic_vector_search = ElasticsearchStore(\n",
    "        es_cloud_id = ELASTIC_CLOUD_ID,\n",
    "        index_name = index_name,\n",
    "        embedding = embeddings,\n",
    "        es_api_key = ELASTIC_API_KEY\n",
    ")\n",
    "\n",
    "retriever = elastic_vector_search.as_retriever(search_kwargs={\"k\":50})\n"
   ]
  },
  {
   "cell_type": "markdown",
   "metadata": {},
   "source": [
    "### Multi-query retriever"
   ]
  },
  {
   "cell_type": "code",
   "execution_count": 5,
   "metadata": {},
   "outputs": [],
   "source": [
    "from typing import List\n",
    "from langchain.chains import LLMChain\n",
    "from pydantic import BaseModel, Field\n",
    "from langchain.prompts import PromptTemplate\n",
    "from langchain.output_parsers import PydanticOutputParser\n",
    "\n",
    "\n",
    "# Output parser will split the LLM result into a list of queries\n",
    "class LineList(BaseModel):\n",
    "    # \"lines\" is the key (attribute name) of the parsed output\n",
    "    lines: List[str] = Field(description=\"Lines of text\")\n",
    "\n",
    "\n",
    "class LineListOutputParser(PydanticOutputParser):\n",
    "    def __init__(self) -> None:\n",
    "        super().__init__(pydantic_object=LineList)\n",
    "\n",
    "    def parse(self, text: str) -> LineList:\n",
    "        lines = text.strip().split(\"\\n\")\n",
    "        return LineList(lines=lines)\n",
    "\n",
    "\n",
    "output_parser = LineListOutputParser()\n"
   ]
  },
  {
   "cell_type": "code",
   "execution_count": 6,
   "metadata": {},
   "outputs": [],
   "source": [
    "template = \"\"\"\n",
    "Your task is to generate 3 different search queries that aim to\n",
    "answer the user question from multiple perspectives. The user questions\n",
    "are focused on Large Language Models, Machine Learning, and related\n",
    "disciplines.\n",
    "Each query MUST tackle the question from a different viewpoint, we\n",
    "want to get a variety of RELEVANT search results.\n",
    "Provide these alternative questions separated by newlines.\n",
    "Original question: {question}\n",
    "\"\"\"\n",
    "\n",
    "QUERY_PROMPT = PromptTemplate(\n",
    "    input_variables=[\"question\"],\n",
    "    template=template,\n",
    ")\n",
    "llm = Ollama(model=\"llama2\")\n",
    "\n",
    "# Chain\n",
    "llm_chain = LLMChain(llm=llm, prompt=QUERY_PROMPT, output_parser=output_parser)"
   ]
  },
  {
   "cell_type": "code",
   "execution_count": 7,
   "metadata": {},
   "outputs": [],
   "source": [
    "rag = RetrievalQA.from_chain_type(\n",
    "    llm=llm,\n",
    "    chain_type=\"stuff\",\n",
    "    verbose=True,\n",
    "    retriever = elastic_vector_search.as_retriever(search_kwargs={\"k\":3}),\n",
    "    chain_type_kwargs={\n",
    "        \"verbose\": True },\n",
    ")"
   ]
  },
  {
   "cell_type": "code",
   "execution_count": 8,
   "metadata": {},
   "outputs": [
    {
     "name": "stderr",
     "output_type": "stream",
     "text": [
      "c:\\Users\\priot\\anaconda3\\envs\\nlp\\lib\\site-packages\\langchain_core\\_api\\deprecation.py:117: LangChainDeprecationWarning: The function `__call__` was deprecated in LangChain 0.1.0 and will be removed in 0.2.0. Use invoke instead.\n",
      "  warn_deprecated(\n"
     ]
    },
    {
     "name": "stdout",
     "output_type": "stream",
     "text": [
      "\n",
      "\n",
      "\u001b[1m> Entering new RetrievalQA chain...\u001b[0m\n",
      "\n",
      "\n",
      "\u001b[1m> Entering new StuffDocumentsChain chain...\u001b[0m\n",
      "\n",
      "\n",
      "\u001b[1m> Entering new LLMChain chain...\u001b[0m\n",
      "Prompt after formatting:\n",
      "\u001b[32;1m\u001b[1;3mUse the following pieces of context to answer the question at the end. If you don't know the answer, just say that you don't know, don't try to make up an answer.\n",
      "\n",
      "\" the practice of medicine is changing with the development of new artificial intelligence ( ai ) methods of machine learning. coupled with rapid improvements in computer processing, these ai - based systems are already improving the accuracy and efficiency of diagnosis and treatment across various specializations. the increasing focus of ai in radiology has led to some experts suggesting that someday ai may even replace radiologists. these suggestions raise the question of whether ai - based systems will eventually replace physicians in some specializations or will augment the role of physicians without actually replacing them. to assess the impact on physicians this research seeks to better understand this technology and how it is transforming medicine. to that end this paper researches the role of ai - based systems in performing medical work in specializations including radiology, pathology, ophthalmology, and cardiology. it concludes that ai - based systems will augment physicians and are unlikely to replace the traditional physician - patient relationship. \"\n",
      "\n",
      "\" artificial intelligence ( ai ) has birthed the new \\ \" big thing \\ \" in modern medicine. it promises to bring about safer and improved care that will be beneficial to patients \\ u00a0and become a helpful tool in the hands of a skilled physician. despite its anticipation, however, the implementation and usage of ai are still in their elementary phases, particularly due to legal and ethical considerations that border on \\ \" data. \\ \" \\ u00a0these challenges should not be brushed aside but rather be recognized and resolved to enable acceptance by all relevant stakeholders without prejudice. once these challenges can be overcome, ai will truly revolutionize the field of medicine with improved diagnostic accuracy, a reduction in physician burnout, and an enhanced treatment modality. it is therefore paramount that ai be embraced by physicians and integrated into medical education in order to be well - prepared for our role in the future of medicine. \"\n",
      "\n",
      "\" artificial intelligence ( ai ) has birthed the new \\ \" big thing \\ \" in modern medicine. it promises to bring about safer and improved care that will be beneficial to patients \\ u00a0and become a helpful tool in the hands of a skilled physician. despite its anticipation, however, the implementation and usage of ai are still in their elementary phases, particularly due to legal and ethical considerations that border on \\ \" data. \\ \" \\ u00a0these challenges should not be brushed aside but rather be recognized and resolved to enable acceptance by all relevant stakeholders without prejudice. once these challenges can be overcome, ai will truly revolutionize the field of medicine with improved diagnostic accuracy, a reduction in physician burnout, and an enhanced treatment modality. it is therefore paramount that ai be embraced by physicians and integrated into medical education in order to be well - prepared for our role in the future of medicine. \"\n",
      "\n",
      "\" there is a vast development of artificial intelligence ( ai ) in recent years. computational technology, digitized data collection and enormous advancement in this field have allowed ai applications to penetrate the core human area of specialization. in this review article, we describe current progress achieved in the ai field highlighting constraints on smooth development in the field of medical ai sector, with discussion of its implementation in healthcare from a commercial, regulatory and sociological standpoint. utilizing sizable multidimensional biological datasets that contain individual heterogeneity in genomes, functionality and milieu, precision medicine strives to create and optimize approaches for diagnosis, treatment methods and assessment. with the arise of complexity and expansion of data in the health - care industry, ai can be applied more frequently. the main application categories include indications for diagnosis and therapy, patient involvement and commitment and administrative tasks. there has recently been a sharp rise in interest in medical ai applications due to developments in ai software and technology, particularly in deep learning algorithms and in artificial neural network ( ann ). in this overview, we enlisted the major categories of issues that ai systems are ideally equipped to resolve followed by clinical diagnostic tasks. it also includes a discussion of the future potential of ai, particularly for risk prediction in complex diseases, and the difficulties, constraints and biases that must be meticulously addressed for the effective delivery of ai in the health - care sector. \"\n",
      "\n",
      "\" there is a vast development of artificial intelligence ( ai ) in recent years. computational technology, digitized data collection and enormous advancement in this field have allowed ai applications to penetrate the core human area of specialization. in this review article, we describe current progress achieved in the ai field highlighting constraints on smooth development in the field of medical ai sector, with discussion of its implementation in healthcare from a commercial, regulatory and sociological standpoint. utilizing sizable multidimensional biological datasets that contain individual heterogeneity in genomes, functionality and milieu, precision medicine strives to create and optimize approaches for diagnosis, treatment methods and assessment. with the arise of complexity and expansion of data in the health - care industry, ai can be applied more frequently. the main application categories include indications for diagnosis and therapy, patient involvement and commitment and administrative tasks. there has recently been a sharp rise in interest in medical ai applications due to developments in ai software and technology, particularly in deep learning algorithms and in artificial neural network ( ann ). in this overview, we enlisted the major categories of issues that ai systems are ideally equipped to resolve followed by clinical diagnostic tasks. it also includes a discussion of the future potential of ai, particularly for risk prediction in complex diseases, and the difficulties, constraints and biases that must be meticulously addressed for the effective delivery of ai in the health - care sector. \"\n",
      "\n",
      "\" the application of artificial intelligence ( ai ) in the field of medicine has revolutionised various sectors of the health care system, including robotics surgery, biotechnology, pharmaceutical, evidence - based medicine and advanced research and transplantation techniques. by offering improved 3d imagery of the various organs involved in surgery and perfectly minimising the chances of error, ai aid made complicated surgical procedures more efficient and highly effective, requiring less hands - on. further, the ai tool helps plastic surgery and aesthetic surgeons in anticipating prognostic surgical markers and post - operative consequences. in addition to enhancing accurate and rapid diagnosis, ai has played a pivotal role in the development and discovery of new drugs. nevertheless, the application of ai in health care also raises significant challenges and concerns. incorrect drug recommendations, failure to identify tumours and lesions on imaging modalities and potential bias in data entry and its automatic can risk the life of patients on a large scale. additionally, breaching patient data privacy may raise concerns about cybersecurity issues, further compromised by growing dependency on ai which can result in massive unemployment. in short, ai has played a pivotal role in health care ; however, addressing the in - transparencies is critical to ensure safe, ethical and more effective implementation in the dynamic field of medicine. \"\n",
      "\n",
      "\" the application of artificial intelligence ( ai ) in the field of medicine has revolutionised various sectors of the health care system, including robotics surgery, biotechnology, pharmaceutical, evidence - based medicine and advanced research and transplantation techniques. by offering improved 3d imagery of the various organs involved in surgery and perfectly minimising the chances of error, ai aid made complicated surgical procedures more efficient and highly effective, requiring less hands - on. further, the ai tool helps plastic surgery and aesthetic surgeons in anticipating prognostic surgical markers and post - operative consequences. in addition to enhancing accurate and rapid diagnosis, ai has played a pivotal role in the development and discovery of new drugs. nevertheless, the application of ai in health care also raises significant challenges and concerns. incorrect drug recommendations, failure to identify tumours and lesions on imaging modalities and potential bias in data entry and its automatic can risk the life of patients on a large scale. additionally, breaching patient data privacy may raise concerns about cybersecurity issues, further compromised by growing dependency on ai which can result in massive unemployment. in short, ai has played a pivotal role in health care ; however, addressing the in - transparencies is critical to ensure safe, ethical and more effective implementation in the dynamic field of medicine. \"\n",
      "\n",
      "\" in the much - celebrated book deep medicine, eric topol argues that the development of artificial intelligence for health care will lead to a dramatic shift in the culture and practice of medicine. in the next several decades, he suggests, ai will become sophisticated enough that many of the everyday tasks of physicians could be delegated to it. topol is perhaps the most articulate advocate of the benefits of ai in medicine, but he is hardly alone in spruiking its potential to allow physicians to dedicate more of their time and attention to providing empathetic care for their patients in the future. unfortunately, several factors suggest a radically different picture for the future of health care. far from facilitating a return to a time of closer doctor - patient relationships, the use of medical ai seems likely to further erode therapeutic relationships and threaten professional and patient satisfaction. \"\n",
      "\n",
      "\" in the much - celebrated book deep medicine, eric topol argues that the development of artificial intelligence for health care will lead to a dramatic shift in the culture and practice of medicine. in the next several decades, he suggests, ai will become sophisticated enough that many of the everyday tasks of physicians could be delegated to it. topol is perhaps the most articulate advocate of the benefits of ai in medicine, but he is hardly alone in spruiking its potential to allow physicians to dedicate more of their time and attention to providing empathetic care for their patients in the future. unfortunately, several factors suggest a radically different picture for the future of health care. far from facilitating a return to a time of closer doctor - patient relationships, the use of medical ai seems likely to further erode therapeutic relationships and threaten professional and patient satisfaction. \"\n",
      "\n",
      "\" artificial intelligence ( ai ) is on course to become a mainstay in the patient's room, physician's office, and the surgical suite. current advancements in health care technology might put future physicians in an insufficiently equipped position to deal with the advancements and challenges brought about by ai and machine learning solutions. physicians will be tasked regularly with clinical decision - making with the assistance of ai - driven predictions. present - day physicians are not trained to incorporate the suggestions of such predictions on a regular basis nor are they knowledgeable in an ethical approach to incorporating ai in their practice and evolving standards of care. medical schools do not currently incorporate ai in their curriculum due to several factors, including the lack of faculty expertise, the lack of evidence to support the growing desire by students to learn about ai, or the lack of liaison committee on medical education's guidance on ai in medical education. medical schools should incorporate ai in the curriculum as a longitudinal thread in current subjects. current students should understand the breadth of ai tools, the framework of engineering and designing ai solutions to clinical issues, and the role of data in the development of ai innovations. study cases in the curriculum should include an ai recommendation that may present critical decision - making challenges. finally, the ethical implications of ai in medicine must be at the forefront of any comprehensive medical education. \"\n",
      "\n",
      "\" artificial intelligence ( ai ) is on course to become a mainstay in the patient's room, physician's office, and the surgical suite. current advancements in health care technology might put future physicians in an insufficiently equipped position to deal with the advancements and challenges brought about by ai and machine learning solutions. physicians will be tasked regularly with clinical decision - making with the assistance of ai - driven predictions. present - day physicians are not trained to incorporate the suggestions of such predictions on a regular basis nor are they knowledgeable in an ethical approach to incorporating ai in their practice and evolving standards of care. medical schools do not currently incorporate ai in their curriculum due to several factors, including the lack of faculty expertise, the lack of evidence to support the growing desire by students to learn about ai, or the lack of liaison committee on medical education's guidance on ai in medical education. medical schools should incorporate ai in the curriculum as a longitudinal thread in current subjects. current students should understand the breadth of ai tools, the framework of engineering and designing ai solutions to clinical issues, and the role of data in the development of ai innovations. study cases in the curriculum should include an ai recommendation that may present critical decision - making challenges. finally, the ethical implications of ai in medicine must be at the forefront of any comprehensive medical education. \"\n",
      "\n",
      "\" artificial intelligence ( ai ) broadly refers to machines that simulate intelligent human behavior, and research into this field is exponential and worldwide, with global players such as microsoft battling with google for supremacy and market share. this paper reviews the \\ \" good \\ \" aspects of ai in medicine for individuals who embrace the 4p model of medicine ( predictive, preventive, personalized, and participatory ) to medical assistants in diagnostics, surgery, and research. the \\ \" bad \\ \" aspects relate to the potential for errors, culpability, ethics, data loss and data breaches, and so on. the \\ \" ugly \\ \" aspects are deliberate personal malfeasances and outright scientific misconduct including the ease of plagiarism and fabrication, with particular reference to the novel chatgpt as well as ai software that can also fabricate graphs and images. the issues pertaining to the potential dangers of creating rogue, super - intelligent ai systems that lead to a technological singularity and the ensuing perceived existential threat to mankind by leading ai researchers are also briefly discussed. \"\n",
      "\n",
      "\" artificial intelligence ( ai ) broadly refers to machines that simulate intelligent human behavior, and research into this field is exponential and worldwide, with global players such as microsoft battling with google for supremacy and market share. this paper reviews the \\ \" good \\ \" aspects of ai in medicine for individuals who embrace the 4p model of medicine ( predictive, preventive, personalized, and participatory ) to medical assistants in diagnostics, surgery, and research. the \\ \" bad \\ \" aspects relate to the potential for errors, culpability, ethics, data loss and data breaches, and so on. the \\ \" ugly \\ \" aspects are deliberate personal malfeasances and outright scientific misconduct including the ease of plagiarism and fabrication, with particular reference to the novel chatgpt as well as ai software that can also fabricate graphs and images. the issues pertaining to the potential dangers of creating rogue, super - intelligent ai systems that lead to a technological singularity and the ensuing perceived existential threat to mankind by leading ai researchers are also briefly discussed. \"\n",
      "\n",
      "\" artificial intelligence ( ai ) broadly refers to machines that simulate intelligent human behavior, and research into this field is exponential and worldwide, with global players such as microsoft battling with google for supremacy and market share. this paper reviews the \\ \" good \\ \" aspects of ai in medicine for individuals who embrace the 4p model of medicine ( predictive, preventive, personalized, and participatory ) to medical assistants in diagnostics, surgery, and research. the \\ \" bad \\ \" aspects relate to the potential for errors, culpability, ethics, data loss and data breaches, and so on. the \\ \" ugly \\ \" aspects are deliberate personal malfeasances and outright scientific misconduct including the ease of plagiarism and fabrication, with particular reference to the novel chatgpt as well as ai software that can also fabricate graphs and images. the issues pertaining to the potential dangers of creating rogue, super - intelligent ai systems that lead to a technological singularity and the ensuing perceived existential threat to mankind by leading ai researchers are also briefly discussed. \"\n",
      "\n",
      "\" artificial intelligence ( ai ) broadly refers to machines that simulate intelligent human behavior, and research into this field is exponential and worldwide, with global players such as microsoft battling with google for supremacy and market share. this paper reviews the \\ \" good \\ \" aspects of ai in medicine for individuals who embrace the 4p model of medicine ( predictive, preventive, personalized, and participatory ) to medical assistants in diagnostics, surgery, and research. the \\ \" bad \\ \" aspects relate to the potential for errors, culpability, ethics, data loss and data breaches, and so on. the \\ \" ugly \\ \" aspects are deliberate personal malfeasances and outright scientific misconduct including the ease of plagiarism and fabrication, with particular reference to the novel chatgpt as well as ai software that can also fabricate graphs and images. the issues pertaining to the potential dangers of creating rogue, super - intelligent ai systems that lead to a technological singularity and the ensuing perceived existential threat to mankind by leading ai researchers are also briefly discussed. \"\n",
      "\n",
      "\" in the evolution of modern medicine, artificial intelligence ( ai ) has been proven to provide an integral aspect of revolutionizing clinical diagnosis, drug discovery, and patient care. with the potential to scrutinize colossal amounts of medical data, radiological and histological images, and genomic data in healthcare institutions, ai - powered systems can recognize, determine, and associate patterns and provide impactful insights that would be strenuous and challenging for clinicians to detect during their daily clinical practice. the outcome of ai - mediated search offers more accurate, personalized patient diagnoses, guides in research for new drug therapies, and provides a more effective multidisciplinary treatment plan that can be implemented for patients with chronic diseases. among the many promising applications of ai in modern medicine, medical imaging stands out distinctly as an area with tremendous potential. ai - powered algorithms can now accurately and sensitively identify cancer cells and other lesions in medical images with greater accuracy and sensitivity. this allows for earlier diagnosis and treatment, which can significantly impact patient outcomes. this review provides a comprehensive insight into diagnostic, therapeutic, and ethical issues with the advent of ai in modern medicine. \"\n",
      "\n",
      "\" in the evolution of modern medicine, artificial intelligence ( ai ) has been proven to provide an integral aspect of revolutionizing clinical diagnosis, drug discovery, and patient care. with the potential to scrutinize colossal amounts of medical data, radiological and histological images, and genomic data in healthcare institutions, ai - powered systems can recognize, determine, and associate patterns and provide impactful insights that would be strenuous and challenging for clinicians to detect during their daily clinical practice. the outcome of ai - mediated search offers more accurate, personalized patient diagnoses, guides in research for new drug therapies, and provides a more effective multidisciplinary treatment plan that can be implemented for patients with chronic diseases. among the many promising applications of ai in modern medicine, medical imaging stands out distinctly as an area with tremendous potential. ai - powered algorithms can now accurately and sensitively identify cancer cells and other lesions in medical images with greater accuracy and sensitivity. this allows for earlier diagnosis and treatment, which can significantly impact patient outcomes. this review provides a comprehensive insight into diagnostic, therapeutic, and ethical issues with the advent of ai in modern medicine. \"\n",
      "\n",
      "\" the term artificial intelligence ( ai ) was coined by john mccarthy in 1956 during a conference held on this subject. however, the possibility of machines being able to simulate human behavior and actually think was raised earlier by alan turing who developed the turing test in order to differentiate humans from machines. since then, computational power has grown to the point of instant calculations and the ability evaluate new data, according to previously assessed data, in real time. today, ai is integrated into our daily lives in many forms, such as personal assistants ( siri, alexa, google assistant etc. ), automated mass transportation, aviation and computer gaming. more recently, ai has also begun to be incorporated into medicine to improve patient care by speeding up processes and achieving greater accuracy, opening the path to providing better healthcare overall. radiological images, pathology slides, and patients'electronic medical records ( emr ) are being evaluated by machine learning, aiding in the process of diagnosis and treatment of patients and augmenting physicians'capabilities. herein we describe the current status of ai in medicine, the way it is used in the different disciplines and future trends. \"\n",
      "\n",
      "\" the term artificial intelligence ( ai ) was coined by john mccarthy in 1956 during a conference held on this subject. however, the possibility of machines being able to simulate human behavior and actually think was raised earlier by alan turing who developed the turing test in order to differentiate humans from machines. since then, computational power has grown to the point of instant calculations and the ability evaluate new data, according to previously assessed data, in real time. today, ai is integrated into our daily lives in many forms, such as personal assistants ( siri, alexa, google assistant etc. ), automated mass transportation, aviation and computer gaming. more recently, ai has also begun to be incorporated into medicine to improve patient care by speeding up processes and achieving greater accuracy, opening the path to providing better healthcare overall. radiological images, pathology slides, and patients'electronic medical records ( emr ) are being evaluated by machine learning, aiding in the process of diagnosis and treatment of patients and augmenting physicians'capabilities. herein we describe the current status of ai in medicine, the way it is used in the different disciplines and future trends. \"\n",
      "\n",
      "\" the rapid adoption and implementation of artificial intelligence in medicine creates an ontologically distinct situation from prior care models. there are both potential advantages and disadvantages with such technology in advancing the interests of patients, with resultant ontological and epistemic concerns for physicians and patients relating to the instatiation of ai as a dependent, semi - or fully - autonomous agent in the encounter. the concept of libertarian paternalism potentially exercised by ai ( and those who control it ) has created challenges to conventional assessments of patient and physician autonomy. the unclear legal relationship between ai and its users cannot be settled presently, an progress in ai and its implementation in patient care will necessitate an iterative discourse to preserve humanitarian concerns in future models of care. this paper proposes that physicians should neither uncritically accept nor unreasonably resist developments in ai but must actively engage and contribute to the discourse, since ai will affect their roles and the nature of their work. one's moral imaginative capacity must be engaged in the questions of beneficence, autonomy, and justice of ai and whether its integration in healthcare has the potential to augment or interfere with the ends of medical practice. \"\n",
      "\n",
      "\" the rapid adoption and implementation of artificial intelligence in medicine creates an ontologically distinct situation from prior care models. there are both potential advantages and disadvantages with such technology in advancing the interests of patients, with resultant ontological and epistemic concerns for physicians and patients relating to the instatiation of ai as a dependent, semi - or fully - autonomous agent in the encounter. the concept of libertarian paternalism potentially exercised by ai ( and those who control it ) has created challenges to conventional assessments of patient and physician autonomy. the unclear legal relationship between ai and its users cannot be settled presently, an progress in ai and its implementation in patient care will necessitate an iterative discourse to preserve humanitarian concerns in future models of care. this paper proposes that physicians should neither uncritically accept nor unreasonably resist developments in ai but must actively engage and contribute to the discourse, since ai will affect their roles and the nature of their work. one's moral imaginative capacity must be engaged in the questions of beneficence, autonomy, and justice of ai and whether its integration in healthcare has the potential to augment or interfere with the ends of medical practice. \"\n",
      "\n",
      "\" the race to make the dream of artificial intelligence a reality comes parallel with the increasing struggle of health care systems to cope with information overload and translational pressure. it is clear that a shift in the way data is generated requires a shift in the way they are processed. this is where ai comes with great promises to solve the problem of volume versus applicability of information in science. in medicine, ai is showing exponential progress in the fields of predictive analysis and image recognition. these promises however, come with an intricate package of ethico - social, scientific and economic implications, towards which a reductionist approach leads to distorted and dramatic predictions. all this, in a time when \\ u00a0the growing pressure on healthcare systems towards defensive medicine begs the question of the true need for ai for good medical practice. this article examines the concept and achievements of ai and attempts to offer a complex view on the realistic expectations from it in medicine, in the context of current practice ( ref. 38 ). keywords : algorithms, artificial intelligence, image recognition, neural networks, predictive analysis. \"\n",
      "\n",
      "\" the race to make the dream of artificial intelligence a reality comes parallel with the increasing struggle of health care systems to cope with information overload and translational pressure. it is clear that a shift in the way data is generated requires a shift in the way they are processed. this is where ai comes with great promises to solve the problem of volume versus applicability of information in science. in medicine, ai is showing exponential progress in the fields of predictive analysis and image recognition. these promises however, come with an intricate package of ethico - social, scientific and economic implications, towards which a reductionist approach leads to distorted and dramatic predictions. all this, in a time when \\ u00a0the growing pressure on healthcare systems towards defensive medicine begs the question of the true need for ai for good medical practice. this article examines the concept and achievements of ai and attempts to offer a complex view on the realistic expectations from it in medicine, in the context of current practice ( ref. 38 ). keywords : algorithms, artificial intelligence, image recognition, neural networks, predictive analysis. \"\n",
      "\n",
      "\" artificial intelligence ( ai ) is expected to affect various fields of medicine substantially and has the potential to improve many aspects of healthcare. however, ai has been creating much hype, too. in applying ai technology to patients, medical professionals should be able to resolve any anxiety, confusion, and questions that patients and the public may have. also, they are responsible for ensuring that ai becomes a technology beneficial for patient care. these make the acquisition of sound knowledge and experience about ai a task of high importance for medical students. preparing for ai does not merely mean learning information technology such as computer programming. one should acquire sufficient knowledge of basic and clinical medicines, data science, biostatistics, and evidence - based medicine. as a medical student, one should not passively accept stories related to ai in medicine in the media and on the internet. medical students should try to develop abilities to distinguish correct information from hype and spin and even capabilities to create thoroughly validated, trustworthy information for patients and the public. \"\n",
      "\n",
      "\" artificial intelligence ( ai ) is expected to affect various fields of medicine substantially and has the potential to improve many aspects of healthcare. however, ai has been creating much hype, too. in applying ai technology to patients, medical professionals should be able to resolve any anxiety, confusion, and questions that patients and the public may have. also, they are responsible for ensuring that ai becomes a technology beneficial for patient care. these make the acquisition of sound knowledge and experience about ai a task of high importance for medical students. preparing for ai does not merely mean learning information technology such as computer programming. one should acquire sufficient knowledge of basic and clinical medicines, data science, biostatistics, and evidence - based medicine. as a medical student, one should not passively accept stories related to ai in medicine in the media and on the internet. medical students should try to develop abilities to distinguish correct information from hype and spin and even capabilities to create thoroughly validated, trustworthy information for patients and the public. \"\n",
      "\n",
      "\" artificial intelligence ( ai ) is poised to broadly reshape medicine, potentially improving the experiences of both clinicians and patients. we discuss key findings from a 2 - year weekly effort to track and share key developments in medical ai. we cover prospective studies and advances in medical image analysis, which have reduced the gap between research and deployment. we also address several promising avenues for novel medical ai research, including non - image data sources, unconventional problem formulations and human - ai collaboration. finally, we consider serious technical and ethical challenges in issues spanning from data scarcity to racial bias. as these challenges are addressed, ai's potential may be realized, making healthcare more accurate, efficient and accessible for patients worldwide. \"\n",
      "\n",
      "\" artificial intelligence ( ai ) is poised to broadly reshape medicine, potentially improving the experiences of both clinicians and patients. we discuss key findings from a 2 - year weekly effort to track and share key developments in medical ai. we cover prospective studies and advances in medical image analysis, which have reduced the gap between research and deployment. we also address several promising avenues for novel medical ai research, including non - image data sources, unconventional problem formulations and human - ai collaboration. finally, we consider serious technical and ethical challenges in issues spanning from data scarcity to racial bias. as these challenges are addressed, ai's potential may be realized, making healthcare more accurate, efficient and accessible for patients worldwide. \"\n",
      "\n",
      "\" the use of artificial intelligence ( ai ) in health care is increasing and has shown utility in many medical specialties, especially pathology, radiology, and oncology. \"\n",
      "\n",
      "\" artificial intelligence ( ai ) is an iterative process by which information is captured, transformed into knowledge and processed to produce adaptive changes in the environment. ai is a broad concept, involving virtual ( computing ) and physical ( robotics ) elements. in this narrative literature review, we focus on the aspects of ai that present major opportunities for developing health care. within a few years, ai will be part of our daily clinical practice. although significant advances are being made, the application of ai in musculoskeletal medicine is still in its early stages compared with its implementation in other areas of medicine. ai is increasingly being employed in fields such as musculoskeletal radiology, skeletal trauma, orthopedic surgery, physical and rehabilitation medicine and sports medicine, as well as for \\ \" big data \\ \" and ai in gastrointestinal ( gi ) endoscopy related injuries. among the limitations of ia are that it analyzes information based on the data it is supplied, which must therefore be well - labeled and that some algorithms such as dl uses more time, data, and computational power than other techniques. moreover, ai currently does not solve the problem of causality that exists in medicine with observational data ; information that physicians interpret within a broad clinical context. ai should therefore be integrated in a prudent and reasonable manner into the workflows of health professionals. \"\n",
      "\n",
      "\" artificial intelligence ( ai ) is an iterative process by which information is captured, transformed into knowledge and processed to produce adaptive changes in the environment. ai is a broad concept, involving virtual ( computing ) and physical ( robotics ) elements. in this narrative literature review, we focus on the aspects of ai that present major opportunities for developing health care. within a few years, ai will be part of our daily clinical practice. although significant advances are being made, the application of ai in musculoskeletal medicine is still in its early stages compared with its implementation in other areas of medicine. ai is increasingly being employed in fields such as musculoskeletal radiology, skeletal trauma, orthopedic surgery, physical and rehabilitation medicine and sports medicine, as well as for \\ \" big data \\ \" and ai in gastrointestinal ( gi ) endoscopy related injuries. among the limitations of ia are that it analyzes information based on the data it is supplied, which must therefore be well - labeled and that some algorithms such as dl uses more time, data, and computational power than other techniques. moreover, ai currently does not solve the problem of causality that exists in medicine with observational data ; information that physicians interpret within a broad clinical context. ai should therefore be integrated in a prudent and reasonable manner into the workflows of health professionals. \"\n",
      "\n",
      "\" the emergence of artificial intelligence ( ai ) in nuclear medicine and radiology has been accompanied by ai commentators and experts predicting that ai would make radiologists, in particular, extinct. more realistic perspectives suggest significant changes will occur in medical practice. there is no escaping the disruptive technology associated with ai, neural networks, and deep learning, the most significant perhaps since the early days of roentgen, becquerel, and curie. ai is an omen, but it need not be foreshadowing a negative event ; rather, it is heralding great opportunity. the key to sustainability lies not in resisting ai but in having a deep understanding and exploiting the capabilities of ai in nuclear medicine while mastering those capabilities unique to the human resources. \"\n",
      "\n",
      "\" artificial intelligence ( ai ) has seen dramatic growth over the past decade, evolving from a niche super specialty computer application into a powerful tool which has revolutionized many areas of our professional and daily lives, and the potential of which seems to be still largely untapped. the field of medicine and medical imaging, as one of its various specialties, has gained considerable benefit from ai, including improved diagnostic accuracy and the possibility of predicting individual patient outcomes and options of more personalized treatment. it should be noted that this process can actively support the ongoing development of advanced, highly specific treatment strategies ( e. g., target therapies for cancer patients ) while enabling faster workflow and more efficient use of healthcare resources. the potential advantages of ai over conventional methods have made it attractive for physicians and other healthcare stakeholders, raising much interest in both the research and the industry communities. however, the fast development of ai has unveiled its potential for disrupting the work of healthcare professionals, spawning concerns among radiologists that, in the future, ai may outperform them, thus damaging their reputations or putting their jobs at risk. furthermore, this development has raised relevant psychological, ethical, and medico - legal issues which need to be addressed for ai to be considered fully capable of patient management. the aim of this review is to provide a brief, hopefully exhaustive, overview of the state of the art of ai systems regarding medical imaging, with a special focus on how ai and the entire healthcare environment should be prepared to accomplish the goal of a more advanced human - centered world. \"\n",
      "\n",
      "\" artificial intelligence ( ai ) has seen dramatic growth over the past decade, evolving from a niche super specialty computer application into a powerful tool which has revolutionized many areas of our professional and daily lives, and the potential of which seems to be still largely untapped. the field of medicine and medical imaging, as one of its various specialties, has gained considerable benefit from ai, including improved diagnostic accuracy and the possibility of predicting individual patient outcomes and options of more personalized treatment. it should be noted that this process can actively support the ongoing development of advanced, highly specific treatment strategies ( e. g., target therapies for cancer patients ) while enabling faster workflow and more efficient use of healthcare resources. the potential advantages of ai over conventional methods have made it attractive for physicians and other healthcare stakeholders, raising much interest in both the research and the industry communities. however, the fast development of ai has unveiled its potential for disrupting the work of healthcare professionals, spawning concerns among radiologists that, in the future, ai may outperform them, thus damaging their reputations or putting their jobs at risk. furthermore, this development has raised relevant psychological, ethical, and medico - legal issues which need to be addressed for ai to be considered fully capable of patient management. the aim of this review is to provide a brief, hopefully exhaustive, overview of the state of the art of ai systems regarding medical imaging, with a special focus on how ai and the entire healthcare environment should be prepared to accomplish the goal of a more advanced human - centered world. \"\n",
      "\n",
      "\" artificial intelligence ( ai ) has seen dramatic growth over the past decade, evolving from a niche super specialty computer application into a powerful tool which has revolutionized many areas of our professional and daily lives, and the potential of which seems to be still largely untapped. the field of medicine and medical imaging, as one of its various specialties, has gained considerable benefit from ai, including improved diagnostic accuracy and the possibility of predicting individual patient outcomes and options of more personalized treatment. it should be noted that this process can actively support the ongoing development of advanced, highly specific treatment strategies ( e. g., target therapies for cancer patients ) while enabling faster workflow and more efficient use of healthcare resources. the potential advantages of ai over conventional methods have made it attractive for physicians and other healthcare stakeholders, raising much interest in both the research and the industry communities. however, the fast development of ai has unveiled its potential for disrupting the work of healthcare professionals, spawning concerns among radiologists that, in the future, ai may outperform them, thus damaging their reputations or putting their jobs at risk. furthermore, this development has raised relevant psychological, ethical, and medico - legal issues which need to be addressed for ai to be considered fully capable of patient management. the aim of this review is to provide a brief, hopefully exhaustive, overview of the state of the art of ai systems regarding medical imaging, with a special focus on how ai and the entire healthcare environment should be prepared to accomplish the goal of a more advanced human - centered world. \"\n",
      "\n",
      "\" artificial intelligence ( ai ) has seen dramatic growth over the past decade, evolving from a niche super specialty computer application into a powerful tool which has revolutionized many areas of our professional and daily lives, and the potential of which seems to be still largely untapped. the field of medicine and medical imaging, as one of its various specialties, has gained considerable benefit from ai, including improved diagnostic accuracy and the possibility of predicting individual patient outcomes and options of more personalized treatment. it should be noted that this process can actively support the ongoing development of advanced, highly specific treatment strategies ( e. g., target therapies for cancer patients ) while enabling faster workflow and more efficient use of healthcare resources. the potential advantages of ai over conventional methods have made it attractive for physicians and other healthcare stakeholders, raising much interest in both the research and the industry communities. however, the fast development of ai has unveiled its potential for disrupting the work of healthcare professionals, spawning concerns among radiologists that, in the future, ai may outperform them, thus damaging their reputations or putting their jobs at risk. furthermore, this development has raised relevant psychological, ethical, and medico - legal issues which need to be addressed for ai to be considered fully capable of patient management. the aim of this review is to provide a brief, hopefully exhaustive, overview of the state of the art of ai systems regarding medical imaging, with a special focus on how ai and the entire healthcare environment should be prepared to accomplish the goal of a more advanced human - centered world. \"\n",
      "\n",
      "\" despite the great media attention for artificial intelligence ( ai ), for many health care professionals the term and the functioning of ai remain a \\ \" black box, \\ \" leading to exaggerated expectations on the one hand and unfounded fears on the other. in this review, we provide a conceptual classification and a brief summary of the technical fundamentals of ai. possible applications are discussed on the basis of a typical work flow in medical imaging, grouped by planning, scanning, interpretation, and reporting. the main limitations of current ai techniques, such as issues with interpretability or the need for large amounts of annotated data, are briefly addressed. finally, we highlight the possible impact of ai on the nuclear medicine profession, the associated challenges and, last but not least, the opportunities. \"\n",
      "\n",
      "\" despite the great media attention for artificial intelligence ( ai ), for many health care professionals the term and the functioning of ai remain a \\ \" black box, \\ \" leading to exaggerated expectations on the one hand and unfounded fears on the other. in this review, we provide a conceptual classification and a brief summary of the technical fundamentals of ai. possible applications are discussed on the basis of a typical work flow in medical imaging, grouped by planning, scanning, interpretation, and reporting. the main limitations of current ai techniques, such as issues with interpretability or the need for large amounts of annotated data, are briefly addressed. finally, we highlight the possible impact of ai on the nuclear medicine profession, the associated challenges and, last but not least, the opportunities. \"\n",
      "\n",
      "have been rewarding, and further advancements are required to satisfy public demands. there is a strong demand for intelligent assistance in many medical areas, including imaging and pathology departments, outpatient services, and surgery. more contributions are imperative to facilitate integrated and advantageous implementation in medical ai. \"\n",
      "\n",
      "have been rewarding, and further advancements are required to satisfy public demands. there is a strong demand for intelligent assistance in many medical areas, including imaging and pathology departments, outpatient services, and surgery. more contributions are imperative to facilitate integrated and advantageous implementation in medical ai. \"\n",
      "\n",
      "\" from imaging interpretation and health monitoring to drug development, the role of artificial intelligence ( ai ) in medicine has increased. but ai is not ready to replace humans when it comes to the diagnosis of sports medicine conditions. rather, in highly specialized fields such as sports medicine, when it comes to interpretation of diagnostic studies such as magnetic resonance imaging scans ( that are more sophisticated than simple radiographs ), experts outperform ai systems at present. key features of clinical practice, such as the physical examination, in - person consultation, and ultimately, decision making, cannot be easily replaced. as every novel \\ \" smart \\ \" tool is incorporated into our lives, we need to be ready to embrace its use, but we also ought to be critical of its implementation and seek transparency at every step of the process. we cannot afford to see ai as an antagonistic element in our practices but rather as a valuable assistant that could someday improve diagnostic accuracy. \"\n",
      "\n",
      "\" from imaging interpretation and health monitoring to drug development, the role of artificial intelligence ( ai ) in medicine has increased. but ai is not ready to replace humans when it comes to the diagnosis of sports medicine conditions. rather, in highly specialized fields such as sports medicine, when it comes to interpretation of diagnostic studies such as magnetic resonance imaging scans ( that are more sophisticated than simple radiographs ), experts outperform ai systems at present. key features of clinical practice, such as the physical examination, in - person consultation, and ultimately, decision making, cannot be easily replaced. as every novel \\ \" smart \\ \" tool is incorporated into our lives, we need to be ready to embrace its use, but we also ought to be critical of its implementation and seek transparency at every step of the process. we cannot afford to see ai as an antagonistic element in our practices but rather as a valuable assistant that could someday improve diagnostic accuracy. \"\n",
      "\n",
      "\" artificial intelligence ( ai ) is increasingly being used in patient care. in the future, physicians will need to understand not only the basic functioning of ai applications, but also their quality, utility, and risks. \"\n",
      "\n",
      "\" artificial intelligence ( ai ) is increasingly being used in patient care. in the future, physicians will need to understand not only the basic functioning of ai applications, but also their quality, utility, and risks. \"\n",
      "\n",
      "\" the use of artificial intelligence ( ai ) in medicine is expected to increase significantly in the upcoming years. advancements in ai technology have the potential to revolutionize health care, from aiding in the diagnosis of certain diseases to helping with treatment decisions. current literature suggests the integration of the subject of ai in medicine as part of the medical curriculum to prepare medical students for the opportunities and challenges related to the use of the technology within the clinical context. \"\n",
      "\n",
      "\" the use of artificial intelligence ( ai ) in medicine is expected to increase significantly in the upcoming years. advancements in ai technology have the potential to revolutionize health care, from aiding in the diagnosis of certain diseases to helping with treatment decisions. current literature suggests the integration of the subject of ai in medicine as part of the medical curriculum to prepare medical students for the opportunities and challenges related to the use of the technology within the clinical context. \"\n",
      "\n",
      "\" in the real world, medical practice is changing hand in hand with the development of new artificial intelligence ( ai ) systems and problems from different areas have been successfully solved using ai algorithms. specifically, the use of ai techniques in setting up or building precision medicine is significant in terms of the accuracy of disease discovery and tailored treatment. moreover, with the use of technology, clinical personnel can deliver a very much efficient healthcare service. \"\n",
      "\n",
      "\" in the real world, medical practice is changing hand in hand with the development of new artificial intelligence ( ai ) systems and problems from different areas have been successfully solved using ai algorithms. specifically, the use of ai techniques in setting up or building precision medicine is significant in terms of the accuracy of disease discovery and tailored treatment. moreover, with the use of technology, clinical personnel can deliver a very much efficient healthcare service. \"\n",
      "\n",
      "\" as interest in ai in medicine grows, so too does the need for education on the topic. despite the technology itself being so close, our understanding of the essence of how it works remains remote. a greater, more judicious acceptance of ai tools can be fostered in medicine by a broader appreciation of what the technology can and cannot do. \"\n",
      "\n",
      "\" artificial intelligence ( ai ) is heralded as the most disruptive technology to health services in the 21 < sup > st < / sup > century. many commentary articles published in the general public and health domains recognise that medical imaging is at the forefront of these changes due to our large digital data footprint. radiomics is transforming medical images into mineable high - dimensional data to optimise clinical decision - making ; however, some would argue that ai could infiltrate workplaces with very few ethical checks and balances. in this commentary article, we describe how ai is beginning to change medical imaging services and the innovations that are on the horizon. we explore how ai and its various forms, including machine learning, will challenge the way medical imaging is delivered from workflow, image acquisition, image registration to interpretation. diagnostic radiographers will need to learn to work alongside our'virtual colleagues ', and we argue that there are vital changes to entry and advanced curricula together with national professional capabilities to ensure machine - learning tools are used in the safest and most effective manner for our patients. \"\n",
      "\n",
      "\" artificial intelligence ( ai ) is heralded as the most disruptive technology to health services in the 21 < sup > st < / sup > century. many commentary articles published in the general public and health domains recognise that medical imaging is at the forefront of these changes due to our large digital data footprint. radiomics is transforming medical images into mineable high - dimensional data to optimise clinical decision - making ; however, some would argue that ai could infiltrate workplaces with very few ethical checks and balances. in this commentary article, we describe how ai is beginning to change medical imaging services and the innovations that are on the horizon. we explore how ai and its various forms, including machine learning, will challenge the way medical imaging is delivered from workflow, image acquisition, image registration to interpretation. diagnostic radiographers will need to learn to work alongside our'virtual colleagues ', and we argue that there are vital changes to entry and advanced curricula together with national professional capabilities to ensure machine - learning tools are used in the safest and most effective manner for our patients. \"\n",
      "\n",
      "Question: AI in medicine\n",
      "Helpful Answer:\u001b[0m\n",
      "\n",
      "\u001b[1m> Finished chain.\u001b[0m\n",
      "\n",
      "\u001b[1m> Finished chain.\u001b[0m\n",
      "\n",
      "\u001b[1m> Finished chain.\u001b[0m\n"
     ]
    },
    {
     "data": {
      "text/plain": [
       "{'query': 'AI in medicine',\n",
       " 'result': \"AI (Artificial Intelligence) is increasingly being used in medicine, from imaging interpretation and health monitoring to drug development. While AI can help with diagnosis, it's important to remember that AI systems are not yet ready to replace humans when it comes to the diagnosis of sports medicine conditions. Experts still outperform AI systems for highly specialized fields like sports medicine.\\n\\nHere are some potential challenges and opportunities related to AI in medicine:\\n\\nChallenges:\\n\\n1. Interpretability: AI algorithms can be difficult to interpret, making it challenging to understand why a particular diagnosis or treatment recommendation was made.\\n2. Data quality: AI algorithms require high-quality data to produce accurate results. However, medical data can be noisy, incomplete, or biased, which can affect the accuracy of AI models.\\n3. Regulatory frameworks: Existing regulatory frameworks may not be adequate for governing the use of AI in medicine, leading to concerns about safety and efficacy.\\n4. Ethical considerations: The use of AI in medicine raises ethical concerns, such as ensuring patient privacy and autonomy, and avoiding potential biases in decision-making.\\n\\nOpportunities:\\n\\n1. Personalized medicine: AI can help personalize treatment plans for patients based on their unique characteristics, such as genetic profiles or medical histories.\\n2. Improved diagnostic accuracy: AI algorithms can analyze large amounts of medical data to improve diagnostic accuracy and identify rare conditions.\\n3. Enhanced patient experience: AI-powered chatbots or virtual assistants can help patients navigate the healthcare system, schedule appointments, and access medical information.\\n4. Increased efficiency: AI can automate routine tasks, freeing up clinicians to focus on more complex and high-value tasks.\\n\\nOverall, while there are challenges associated with the use of AI in medicine, the potential benefits of improved diagnostic accuracy, personalized treatment plans, and increased efficiency make it an area worth exploring further.\"}"
      ]
     },
     "execution_count": 8,
     "metadata": {},
     "output_type": "execute_result"
    }
   ],
   "source": [
    "rag(\"AI in medicine\")"
   ]
  },
  {
   "cell_type": "code",
   "execution_count": 24,
   "metadata": {},
   "outputs": [],
   "source": [
    "question = \"AI in medicine\""
   ]
  },
  {
   "cell_type": "code",
   "execution_count": 9,
   "metadata": {},
   "outputs": [],
   "source": [
    "from langchain_community.document_transformers.embeddings_redundant_filter import *"
   ]
  },
  {
   "cell_type": "markdown",
   "metadata": {},
   "source": []
  },
  {
   "cell_type": "code",
   "execution_count": 18,
   "metadata": {},
   "outputs": [],
   "source": [
    "retriever_15 = elastic_vector_search.as_retriever(search_kwargs={\"k\":15})\n",
    "docs = retriever_15.get_relevant_documents(question)"
   ]
  },
  {
   "cell_type": "code",
   "execution_count": 19,
   "metadata": {},
   "outputs": [
    {
     "data": {
      "text/plain": [
       "[Document(page_content='\" the practice of medicine is changing with the development of new artificial intelligence ( ai ) methods of machine learning. coupled with rapid improvements in computer processing, these ai - based systems are already improving the accuracy and efficiency of diagnosis and treatment across various specializations. the increasing focus of ai in radiology has led to some experts suggesting that someday ai may even replace radiologists. these suggestions raise the question of whether ai - based systems will eventually replace physicians in some specializations or will augment the role of physicians without actually replacing them. to assess the impact on physicians this research seeks to better understand this technology and how it is transforming medicine. to that end this paper researches the role of ai - based systems in performing medical work in specializations including radiology, pathology, ophthalmology, and cardiology. it concludes that ai - based systems will augment physicians and are unlikely to replace the traditional physician - patient relationship. \"', metadata={'title': 'The impact of artificial intelligence in medicine on the future role of the physician.', 'publication_date': '04/10/2019', 'id': 9270, 'authors': ['Abhimanyu S Ahuja']}),\n",
       " Document(page_content='\" the practice of medicine is changing with the development of new artificial intelligence ( ai ) methods of machine learning. coupled with rapid improvements in computer processing, these ai - based systems are already improving the accuracy and efficiency of diagnosis and treatment across various specializations. the increasing focus of ai in radiology has led to some experts suggesting that someday ai may even replace radiologists. these suggestions raise the question of whether ai - based systems will eventually replace physicians in some specializations or will augment the role of physicians without actually replacing them. to assess the impact on physicians this research seeks to better understand this technology and how it is transforming medicine. to that end this paper researches the role of ai - based systems in performing medical work in specializations including radiology, pathology, ophthalmology, and cardiology. it concludes that ai - based systems will augment physicians and are unlikely to replace the traditional physician - patient relationship. \"', metadata={'title': 'The impact of artificial intelligence in medicine on the future role of the physician.', 'publication_date': '04/10/2019', 'id': 9270, 'authors': ['Abhimanyu S Ahuja']}),\n",
       " Document(page_content='\" artificial intelligence ( ai ) has birthed the new \\\\ \" big thing \\\\ \" in modern medicine. it promises to bring about safer and improved care that will be beneficial to patients \\\\ u00a0and become a helpful tool in the hands of a skilled physician. despite its anticipation, however, the implementation and usage of ai are still in their elementary phases, particularly due to legal and ethical considerations that border on \\\\ \" data. \\\\ \" \\\\ u00a0these challenges should not be brushed aside but rather be recognized and resolved to enable acceptance by all relevant stakeholders without prejudice. once these challenges can be overcome, ai will truly revolutionize the field of medicine with improved diagnostic accuracy, a reduction in physician burnout, and an enhanced treatment modality. it is therefore paramount that ai be embraced by physicians and integrated into medical education in order to be well - prepared for our role in the future of medicine. \"', metadata={'title': 'Artificial Intelligence in Healthcare: Perception and Reality.', 'publication_date': '20/09/2023', 'id': 61224, 'authors': ['Abidemi O Akinrinmade', 'Temitayo M Adebile', 'Chioma Ezuma-Ebong', 'Kafayat Bolaji', 'Afomachukwu Ajufo', 'Aisha O Adigun', 'Majed Mohammad', 'Juliet C Dike', 'Okelue E Okobi']}),\n",
       " Document(page_content='\" artificial intelligence ( ai ) has birthed the new \\\\ \" big thing \\\\ \" in modern medicine. it promises to bring about safer and improved care that will be beneficial to patients \\\\ u00a0and become a helpful tool in the hands of a skilled physician. despite its anticipation, however, the implementation and usage of ai are still in their elementary phases, particularly due to legal and ethical considerations that border on \\\\ \" data. \\\\ \" \\\\ u00a0these challenges should not be brushed aside but rather be recognized and resolved to enable acceptance by all relevant stakeholders without prejudice. once these challenges can be overcome, ai will truly revolutionize the field of medicine with improved diagnostic accuracy, a reduction in physician burnout, and an enhanced treatment modality. it is therefore paramount that ai be embraced by physicians and integrated into medical education in order to be well - prepared for our role in the future of medicine. \"', metadata={'title': 'Artificial Intelligence in Healthcare: Perception and Reality.', 'publication_date': '20/09/2023', 'id': 61224, 'authors': ['Abidemi O Akinrinmade', 'Temitayo M Adebile', 'Chioma Ezuma-Ebong', 'Kafayat Bolaji', 'Afomachukwu Ajufo', 'Aisha O Adigun', 'Majed Mohammad', 'Juliet C Dike', 'Okelue E Okobi']}),\n",
       " Document(page_content='\" there is a vast development of artificial intelligence ( ai ) in recent years. computational technology, digitized data collection and enormous advancement in this field have allowed ai applications to penetrate the core human area of specialization. in this review article, we describe current progress achieved in the ai field highlighting constraints on smooth development in the field of medical ai sector, with discussion of its implementation in healthcare from a commercial, regulatory and sociological standpoint. utilizing sizable multidimensional biological datasets that contain individual heterogeneity in genomes, functionality and milieu, precision medicine strives to create and optimize approaches for diagnosis, treatment methods and assessment. with the arise of complexity and expansion of data in the health - care industry, ai can be applied more frequently. the main application categories include indications for diagnosis and therapy, patient involvement and commitment and administrative tasks. there has recently been a sharp rise in interest in medical ai applications due to developments in ai software and technology, particularly in deep learning algorithms and in artificial neural network ( ann ). in this overview, we enlisted the major categories of issues that ai systems are ideally equipped to resolve followed by clinical diagnostic tasks. it also includes a discussion of the future potential of ai, particularly for risk prediction in complex diseases, and the difficulties, constraints and biases that must be meticulously addressed for the effective delivery of ai in the health - care sector. \"', metadata={'title': 'Artificial intelligence in healthcare: a mastery.', 'publication_date': '04/04/2023', 'id': 53279, 'authors': ['Jayanti Mukherjee', 'Ramesh Sharma', 'Prasenjit Dutta', 'Biswanath Bhunia']}),\n",
       " Document(page_content='\" there is a vast development of artificial intelligence ( ai ) in recent years. computational technology, digitized data collection and enormous advancement in this field have allowed ai applications to penetrate the core human area of specialization. in this review article, we describe current progress achieved in the ai field highlighting constraints on smooth development in the field of medical ai sector, with discussion of its implementation in healthcare from a commercial, regulatory and sociological standpoint. utilizing sizable multidimensional biological datasets that contain individual heterogeneity in genomes, functionality and milieu, precision medicine strives to create and optimize approaches for diagnosis, treatment methods and assessment. with the arise of complexity and expansion of data in the health - care industry, ai can be applied more frequently. the main application categories include indications for diagnosis and therapy, patient involvement and commitment and administrative tasks. there has recently been a sharp rise in interest in medical ai applications due to developments in ai software and technology, particularly in deep learning algorithms and in artificial neural network ( ann ). in this overview, we enlisted the major categories of issues that ai systems are ideally equipped to resolve followed by clinical diagnostic tasks. it also includes a discussion of the future potential of ai, particularly for risk prediction in complex diseases, and the difficulties, constraints and biases that must be meticulously addressed for the effective delivery of ai in the health - care sector. \"', metadata={'title': 'Artificial intelligence in healthcare: a mastery.', 'publication_date': '04/04/2023', 'id': 53279, 'authors': ['Jayanti Mukherjee', 'Ramesh Sharma', 'Prasenjit Dutta', 'Biswanath Bhunia']}),\n",
       " Document(page_content='\" the application of artificial intelligence ( ai ) in the field of medicine has revolutionised various sectors of the health care system, including robotics surgery, biotechnology, pharmaceutical, evidence - based medicine and advanced research and transplantation techniques. by offering improved 3d imagery of the various organs involved in surgery and perfectly minimising the chances of error, ai aid made complicated surgical procedures more efficient and highly effective, requiring less hands - on. further, the ai tool helps plastic surgery and aesthetic surgeons in anticipating prognostic surgical markers and post - operative consequences. in addition to enhancing accurate and rapid diagnosis, ai has played a pivotal role in the development and discovery of new drugs. nevertheless, the application of ai in health care also raises significant challenges and concerns. incorrect drug recommendations, failure to identify tumours and lesions on imaging modalities and potential bias in data entry and its automatic can risk the life of patients on a large scale. additionally, breaching patient data privacy may raise concerns about cybersecurity issues, further compromised by growing dependency on ai which can result in massive unemployment. in short, ai has played a pivotal role in health care ; however, addressing the in - transparencies is critical to ensure safe, ethical and more effective implementation in the dynamic field of medicine. \"', metadata={'title': 'Revolutionising Impacts of Artificial Intelligence on Health Care System and Its Related Medical In-Transparencies.', 'publication_date': '07/08/2023', 'id': 62280, 'authors': ['Ayesha Saadat', 'Tasmiyah Siddiqui', 'Shafaq Taseen', 'Sanila Mughal']}),\n",
       " Document(page_content='\" the application of artificial intelligence ( ai ) in the field of medicine has revolutionised various sectors of the health care system, including robotics surgery, biotechnology, pharmaceutical, evidence - based medicine and advanced research and transplantation techniques. by offering improved 3d imagery of the various organs involved in surgery and perfectly minimising the chances of error, ai aid made complicated surgical procedures more efficient and highly effective, requiring less hands - on. further, the ai tool helps plastic surgery and aesthetic surgeons in anticipating prognostic surgical markers and post - operative consequences. in addition to enhancing accurate and rapid diagnosis, ai has played a pivotal role in the development and discovery of new drugs. nevertheless, the application of ai in health care also raises significant challenges and concerns. incorrect drug recommendations, failure to identify tumours and lesions on imaging modalities and potential bias in data entry and its automatic can risk the life of patients on a large scale. additionally, breaching patient data privacy may raise concerns about cybersecurity issues, further compromised by growing dependency on ai which can result in massive unemployment. in short, ai has played a pivotal role in health care ; however, addressing the in - transparencies is critical to ensure safe, ethical and more effective implementation in the dynamic field of medicine. \"', metadata={'title': 'Revolutionising Impacts of Artificial Intelligence on Health Care System and Its Related Medical In-Transparencies.', 'publication_date': '07/08/2023', 'id': 62280, 'authors': ['Ayesha Saadat', 'Tasmiyah Siddiqui', 'Shafaq Taseen', 'Sanila Mughal']}),\n",
       " Document(page_content='\" in the much - celebrated book deep medicine, eric topol argues that the development of artificial intelligence for health care will lead to a dramatic shift in the culture and practice of medicine. in the next several decades, he suggests, ai will become sophisticated enough that many of the everyday tasks of physicians could be delegated to it. topol is perhaps the most articulate advocate of the benefits of ai in medicine, but he is hardly alone in spruiking its potential to allow physicians to dedicate more of their time and attention to providing empathetic care for their patients in the future. unfortunately, several factors suggest a radically different picture for the future of health care. far from facilitating a return to a time of closer doctor - patient relationships, the use of medical ai seems likely to further erode therapeutic relationships and threaten professional and patient satisfaction. \"', metadata={'title': 'High Hopes for \"Deep Medicine\"? AI, Economics, and the Future of Care.', 'publication_date': '', 'id': 18947, 'authors': ['Robert Sparrow', 'Joshua Hatherley']}),\n",
       " Document(page_content='\" in the much - celebrated book deep medicine, eric topol argues that the development of artificial intelligence for health care will lead to a dramatic shift in the culture and practice of medicine. in the next several decades, he suggests, ai will become sophisticated enough that many of the everyday tasks of physicians could be delegated to it. topol is perhaps the most articulate advocate of the benefits of ai in medicine, but he is hardly alone in spruiking its potential to allow physicians to dedicate more of their time and attention to providing empathetic care for their patients in the future. unfortunately, several factors suggest a radically different picture for the future of health care. far from facilitating a return to a time of closer doctor - patient relationships, the use of medical ai seems likely to further erode therapeutic relationships and threaten professional and patient satisfaction. \"', metadata={'title': 'High Hopes for \"Deep Medicine\"? AI, Economics, and the Future of Care.', 'publication_date': '', 'id': 18947, 'authors': ['Robert Sparrow', 'Joshua Hatherley']}),\n",
       " Document(page_content='\" artificial intelligence ( ai ) is on course to become a mainstay in the patient\\'s room, physician\\'s office, and the surgical suite. current advancements in health care technology might put future physicians in an insufficiently equipped position to deal with the advancements and challenges brought about by ai and machine learning solutions. physicians will be tasked regularly with clinical decision - making with the assistance of ai - driven predictions. present - day physicians are not trained to incorporate the suggestions of such predictions on a regular basis nor are they knowledgeable in an ethical approach to incorporating ai in their practice and evolving standards of care. medical schools do not currently incorporate ai in their curriculum due to several factors, including the lack of faculty expertise, the lack of evidence to support the growing desire by students to learn about ai, or the lack of liaison committee on medical education\\'s guidance on ai in medical education. medical schools should incorporate ai in the curriculum as a longitudinal thread in current subjects. current students should understand the breadth of ai tools, the framework of engineering and designing ai solutions to clinical issues, and the role of data in the development of ai innovations. study cases in the curriculum should include an ai recommendation that may present critical decision - making challenges. finally, the ethical implications of ai in medicine must be at the forefront of any comprehensive medical education. \"', metadata={'title': 'Needs, Challenges, and Applications of Artificial Intelligence in Medical Education Curriculum.', 'publication_date': '07/06/2022', 'id': 36697, 'authors': ['Joel Grunhut', 'Oge Marques', 'Adam T M Wyatt']}),\n",
       " Document(page_content='\" artificial intelligence ( ai ) is on course to become a mainstay in the patient\\'s room, physician\\'s office, and the surgical suite. current advancements in health care technology might put future physicians in an insufficiently equipped position to deal with the advancements and challenges brought about by ai and machine learning solutions. physicians will be tasked regularly with clinical decision - making with the assistance of ai - driven predictions. present - day physicians are not trained to incorporate the suggestions of such predictions on a regular basis nor are they knowledgeable in an ethical approach to incorporating ai in their practice and evolving standards of care. medical schools do not currently incorporate ai in their curriculum due to several factors, including the lack of faculty expertise, the lack of evidence to support the growing desire by students to learn about ai, or the lack of liaison committee on medical education\\'s guidance on ai in medical education. medical schools should incorporate ai in the curriculum as a longitudinal thread in current subjects. current students should understand the breadth of ai tools, the framework of engineering and designing ai solutions to clinical issues, and the role of data in the development of ai innovations. study cases in the curriculum should include an ai recommendation that may present critical decision - making challenges. finally, the ethical implications of ai in medicine must be at the forefront of any comprehensive medical education. \"', metadata={'title': 'Needs, Challenges, and Applications of Artificial Intelligence in Medical Education Curriculum.', 'publication_date': '07/06/2022', 'id': 36697, 'authors': ['Joel Grunhut', 'Oge Marques', 'Adam T M Wyatt']}),\n",
       " Document(page_content='\" artificial intelligence ( ai ) broadly refers to machines that simulate intelligent human behavior, and research into this field is exponential and worldwide, with global players such as microsoft battling with google for supremacy and market share. this paper reviews the \\\\ \" good \\\\ \" aspects of ai in medicine for individuals who embrace the 4p model of medicine ( predictive, preventive, personalized, and participatory ) to medical assistants in diagnostics, surgery, and research. the \\\\ \" bad \\\\ \" aspects relate to the potential for errors, culpability, ethics, data loss and data breaches, and so on. the \\\\ \" ugly \\\\ \" aspects are deliberate personal malfeasances and outright scientific misconduct including the ease of plagiarism and fabrication, with particular reference to the novel chatgpt as well as ai software that can also fabricate graphs and images. the issues pertaining to the potential dangers of creating rogue, super - intelligent ai systems that lead to a technological singularity and the ensuing perceived existential threat to mankind by leading ai researchers are also briefly discussed. \"', metadata={'title': 'Artificial intelligence in medicine and research - the good, the bad, and the ugly.', 'publication_date': '22/06/2023', 'id': 52322, 'authors': ['Victor Grech', 'Sarah Cuschieri', 'Abdelazeem A Eldawlatly']}),\n",
       " Document(page_content='\" artificial intelligence ( ai ) broadly refers to machines that simulate intelligent human behavior, and research into this field is exponential and worldwide, with global players such as microsoft battling with google for supremacy and market share. this paper reviews the \\\\ \" good \\\\ \" aspects of ai in medicine for individuals who embrace the 4p model of medicine ( predictive, preventive, personalized, and participatory ) to medical assistants in diagnostics, surgery, and research. the \\\\ \" bad \\\\ \" aspects relate to the potential for errors, culpability, ethics, data loss and data breaches, and so on. the \\\\ \" ugly \\\\ \" aspects are deliberate personal malfeasances and outright scientific misconduct including the ease of plagiarism and fabrication, with particular reference to the novel chatgpt as well as ai software that can also fabricate graphs and images. the issues pertaining to the potential dangers of creating rogue, super - intelligent ai systems that lead to a technological singularity and the ensuing perceived existential threat to mankind by leading ai researchers are also briefly discussed. \"', metadata={'title': 'Artificial intelligence in medicine and research - the good, the bad, and the ugly.', 'publication_date': '22/06/2023', 'id': 61348, 'authors': ['Victor Grech', 'Sarah Cuschieri', 'Abdelazeem A Eldawlatly']}),\n",
       " Document(page_content='\" artificial intelligence ( ai ) broadly refers to machines that simulate intelligent human behavior, and research into this field is exponential and worldwide, with global players such as microsoft battling with google for supremacy and market share. this paper reviews the \\\\ \" good \\\\ \" aspects of ai in medicine for individuals who embrace the 4p model of medicine ( predictive, preventive, personalized, and participatory ) to medical assistants in diagnostics, surgery, and research. the \\\\ \" bad \\\\ \" aspects relate to the potential for errors, culpability, ethics, data loss and data breaches, and so on. the \\\\ \" ugly \\\\ \" aspects are deliberate personal malfeasances and outright scientific misconduct including the ease of plagiarism and fabrication, with particular reference to the novel chatgpt as well as ai software that can also fabricate graphs and images. the issues pertaining to the potential dangers of creating rogue, super - intelligent ai systems that lead to a technological singularity and the ensuing perceived existential threat to mankind by leading ai researchers are also briefly discussed. \"', metadata={'title': 'Artificial intelligence in medicine and research - the good, the bad, and the ugly.', 'publication_date': '22/06/2023', 'id': 52322, 'authors': ['Victor Grech', 'Sarah Cuschieri', 'Abdelazeem A Eldawlatly']})]"
      ]
     },
     "execution_count": 19,
     "metadata": {},
     "output_type": "execute_result"
    }
   ],
   "source": [
    "docs"
   ]
  },
  {
   "cell_type": "code",
   "execution_count": 29,
   "metadata": {},
   "outputs": [],
   "source": [
    "a = EmbeddingsRedundantFilter(embeddings=embeddings, threshold=0.9) ## default is cosine similarity\n",
    "unique_docs = a.transform_documents(docs)"
   ]
  },
  {
   "cell_type": "code",
   "execution_count": 30,
   "metadata": {},
   "outputs": [
    {
     "data": {
      "text/plain": [
       "[Document(page_content='\" the practice of medicine is changing with the development of new artificial intelligence ( ai ) methods of machine learning. coupled with rapid improvements in computer processing, these ai - based systems are already improving the accuracy and efficiency of diagnosis and treatment across various specializations. the increasing focus of ai in radiology has led to some experts suggesting that someday ai may even replace radiologists. these suggestions raise the question of whether ai - based systems will eventually replace physicians in some specializations or will augment the role of physicians without actually replacing them. to assess the impact on physicians this research seeks to better understand this technology and how it is transforming medicine. to that end this paper researches the role of ai - based systems in performing medical work in specializations including radiology, pathology, ophthalmology, and cardiology. it concludes that ai - based systems will augment physicians and are unlikely to replace the traditional physician - patient relationship. \"', metadata={'title': 'The impact of artificial intelligence in medicine on the future role of the physician.', 'publication_date': '04/10/2019', 'id': 9270, 'authors': ['Abhimanyu S Ahuja']}),\n",
       " Document(page_content='\" artificial intelligence ( ai ) has birthed the new \\\\ \" big thing \\\\ \" in modern medicine. it promises to bring about safer and improved care that will be beneficial to patients \\\\ u00a0and become a helpful tool in the hands of a skilled physician. despite its anticipation, however, the implementation and usage of ai are still in their elementary phases, particularly due to legal and ethical considerations that border on \\\\ \" data. \\\\ \" \\\\ u00a0these challenges should not be brushed aside but rather be recognized and resolved to enable acceptance by all relevant stakeholders without prejudice. once these challenges can be overcome, ai will truly revolutionize the field of medicine with improved diagnostic accuracy, a reduction in physician burnout, and an enhanced treatment modality. it is therefore paramount that ai be embraced by physicians and integrated into medical education in order to be well - prepared for our role in the future of medicine. \"', metadata={'title': 'Artificial Intelligence in Healthcare: Perception and Reality.', 'publication_date': '20/09/2023', 'id': 61224, 'authors': ['Abidemi O Akinrinmade', 'Temitayo M Adebile', 'Chioma Ezuma-Ebong', 'Kafayat Bolaji', 'Afomachukwu Ajufo', 'Aisha O Adigun', 'Majed Mohammad', 'Juliet C Dike', 'Okelue E Okobi']}),\n",
       " Document(page_content='\" there is a vast development of artificial intelligence ( ai ) in recent years. computational technology, digitized data collection and enormous advancement in this field have allowed ai applications to penetrate the core human area of specialization. in this review article, we describe current progress achieved in the ai field highlighting constraints on smooth development in the field of medical ai sector, with discussion of its implementation in healthcare from a commercial, regulatory and sociological standpoint. utilizing sizable multidimensional biological datasets that contain individual heterogeneity in genomes, functionality and milieu, precision medicine strives to create and optimize approaches for diagnosis, treatment methods and assessment. with the arise of complexity and expansion of data in the health - care industry, ai can be applied more frequently. the main application categories include indications for diagnosis and therapy, patient involvement and commitment and administrative tasks. there has recently been a sharp rise in interest in medical ai applications due to developments in ai software and technology, particularly in deep learning algorithms and in artificial neural network ( ann ). in this overview, we enlisted the major categories of issues that ai systems are ideally equipped to resolve followed by clinical diagnostic tasks. it also includes a discussion of the future potential of ai, particularly for risk prediction in complex diseases, and the difficulties, constraints and biases that must be meticulously addressed for the effective delivery of ai in the health - care sector. \"', metadata={'title': 'Artificial intelligence in healthcare: a mastery.', 'publication_date': '04/04/2023', 'id': 53279, 'authors': ['Jayanti Mukherjee', 'Ramesh Sharma', 'Prasenjit Dutta', 'Biswanath Bhunia']}),\n",
       " Document(page_content='\" the application of artificial intelligence ( ai ) in the field of medicine has revolutionised various sectors of the health care system, including robotics surgery, biotechnology, pharmaceutical, evidence - based medicine and advanced research and transplantation techniques. by offering improved 3d imagery of the various organs involved in surgery and perfectly minimising the chances of error, ai aid made complicated surgical procedures more efficient and highly effective, requiring less hands - on. further, the ai tool helps plastic surgery and aesthetic surgeons in anticipating prognostic surgical markers and post - operative consequences. in addition to enhancing accurate and rapid diagnosis, ai has played a pivotal role in the development and discovery of new drugs. nevertheless, the application of ai in health care also raises significant challenges and concerns. incorrect drug recommendations, failure to identify tumours and lesions on imaging modalities and potential bias in data entry and its automatic can risk the life of patients on a large scale. additionally, breaching patient data privacy may raise concerns about cybersecurity issues, further compromised by growing dependency on ai which can result in massive unemployment. in short, ai has played a pivotal role in health care ; however, addressing the in - transparencies is critical to ensure safe, ethical and more effective implementation in the dynamic field of medicine. \"', metadata={'title': 'Revolutionising Impacts of Artificial Intelligence on Health Care System and Its Related Medical In-Transparencies.', 'publication_date': '07/08/2023', 'id': 62280, 'authors': ['Ayesha Saadat', 'Tasmiyah Siddiqui', 'Shafaq Taseen', 'Sanila Mughal']}),\n",
       " Document(page_content='\" in the much - celebrated book deep medicine, eric topol argues that the development of artificial intelligence for health care will lead to a dramatic shift in the culture and practice of medicine. in the next several decades, he suggests, ai will become sophisticated enough that many of the everyday tasks of physicians could be delegated to it. topol is perhaps the most articulate advocate of the benefits of ai in medicine, but he is hardly alone in spruiking its potential to allow physicians to dedicate more of their time and attention to providing empathetic care for their patients in the future. unfortunately, several factors suggest a radically different picture for the future of health care. far from facilitating a return to a time of closer doctor - patient relationships, the use of medical ai seems likely to further erode therapeutic relationships and threaten professional and patient satisfaction. \"', metadata={'title': 'High Hopes for \"Deep Medicine\"? AI, Economics, and the Future of Care.', 'publication_date': '', 'id': 18947, 'authors': ['Robert Sparrow', 'Joshua Hatherley']}),\n",
       " Document(page_content='\" artificial intelligence ( ai ) is on course to become a mainstay in the patient\\'s room, physician\\'s office, and the surgical suite. current advancements in health care technology might put future physicians in an insufficiently equipped position to deal with the advancements and challenges brought about by ai and machine learning solutions. physicians will be tasked regularly with clinical decision - making with the assistance of ai - driven predictions. present - day physicians are not trained to incorporate the suggestions of such predictions on a regular basis nor are they knowledgeable in an ethical approach to incorporating ai in their practice and evolving standards of care. medical schools do not currently incorporate ai in their curriculum due to several factors, including the lack of faculty expertise, the lack of evidence to support the growing desire by students to learn about ai, or the lack of liaison committee on medical education\\'s guidance on ai in medical education. medical schools should incorporate ai in the curriculum as a longitudinal thread in current subjects. current students should understand the breadth of ai tools, the framework of engineering and designing ai solutions to clinical issues, and the role of data in the development of ai innovations. study cases in the curriculum should include an ai recommendation that may present critical decision - making challenges. finally, the ethical implications of ai in medicine must be at the forefront of any comprehensive medical education. \"', metadata={'title': 'Needs, Challenges, and Applications of Artificial Intelligence in Medical Education Curriculum.', 'publication_date': '07/06/2022', 'id': 36697, 'authors': ['Joel Grunhut', 'Oge Marques', 'Adam T M Wyatt']}),\n",
       " Document(page_content='\" artificial intelligence ( ai ) broadly refers to machines that simulate intelligent human behavior, and research into this field is exponential and worldwide, with global players such as microsoft battling with google for supremacy and market share. this paper reviews the \\\\ \" good \\\\ \" aspects of ai in medicine for individuals who embrace the 4p model of medicine ( predictive, preventive, personalized, and participatory ) to medical assistants in diagnostics, surgery, and research. the \\\\ \" bad \\\\ \" aspects relate to the potential for errors, culpability, ethics, data loss and data breaches, and so on. the \\\\ \" ugly \\\\ \" aspects are deliberate personal malfeasances and outright scientific misconduct including the ease of plagiarism and fabrication, with particular reference to the novel chatgpt as well as ai software that can also fabricate graphs and images. the issues pertaining to the potential dangers of creating rogue, super - intelligent ai systems that lead to a technological singularity and the ensuing perceived existential threat to mankind by leading ai researchers are also briefly discussed. \"', metadata={'title': 'Artificial intelligence in medicine and research - the good, the bad, and the ugly.', 'publication_date': '22/06/2023', 'id': 52322, 'authors': ['Victor Grech', 'Sarah Cuschieri', 'Abdelazeem A Eldawlatly']})]"
      ]
     },
     "execution_count": 30,
     "metadata": {},
     "output_type": "execute_result"
    }
   ],
   "source": [
    "unique_docs = [x.to_document() for x in unique_docs] ## this have their embeddings here\n",
    "unique_docs"
   ]
  },
  {
   "cell_type": "code",
   "execution_count": 31,
   "metadata": {},
   "outputs": [
    {
     "data": {
      "text/plain": [
       "\"Hello! I'm here to help answer your questions about AI in medicine. Based on the contexts provided, it seems that AI is transforming the field of medicine and has the potential to augment physicians without replacing them entirely. According to the research paper, AI-based systems are already improving the accuracy and efficiency of diagnosis and treatment across various specializations, including radiology, pathology, ophthalmology, and cardiology. However, it also highlights the importance of addressing legal and ethical considerations related to data usage to ensure widespread acceptance of AI in medicine.\\n\\nIn terms of your question, AI is definitely changing the practice of medicine, particularly in radiology and other specialties. While some experts suggest that AI may eventually replace radiologists, it's important to recognize that AI will augment physicians rather than completely replacing them. The traditional physician-patient relationship is unlikely to be replaced by AI, as patients still need personalized care and empathy from their healthcare providers.\\n\\nAI has the potential to revolutionize medicine by improving diagnostic accuracy, reducing physician burnout, and enhancing treatment modalities. However, it's crucial that physicians are trained in AI technology and integrate it into their medical education to be well-prepared for the future of medicine. With proper implementation and addressing ethical considerations, AI can greatly improve patient care and outcomes.\""
      ]
     },
     "execution_count": 31,
     "metadata": {},
     "output_type": "execute_result"
    }
   ],
   "source": [
    "QA_PROMPT = PromptTemplate(\n",
    "    input_variables=[\"query\", \"contexts\"],\n",
    "    template=\"\"\"You are a helpful assistant who answers user queries using the\n",
    "    contexts provided. If the question cannot be answered using the information\n",
    "    provided say \"I don't know\". Limit your answers to maximum 100 words.\n",
    "\n",
    "    Contexts:\n",
    "    {contexts}\n",
    "\n",
    "    Question: {query}\"\"\",\n",
    ")\n",
    "\n",
    "# Chain\n",
    "qa_chain = LLMChain(llm=llm, prompt=QA_PROMPT)\n",
    "\n",
    "out = qa_chain(\n",
    "    inputs={\n",
    "        \"query\": question,\n",
    "        \"contexts\": \"\\n---\\n\".join([d.page_content for d in unique_docs[:2]])\n",
    "    }\n",
    ")\n",
    "out[\"text\"]"
   ]
  },
  {
   "cell_type": "code",
   "execution_count": null,
   "metadata": {},
   "outputs": [],
   "source": [
    "## replacement to RetrievalQA.from_chain_type\n",
    "\n"
   ]
  },
  {
   "cell_type": "code",
   "execution_count": 23,
   "metadata": {},
   "outputs": [],
   "source": [
    "# from langchain.retrievers.multi_query import MultiQueryRetriever\n",
    "\n",
    "# question = \"What is the relationship between risk of schizophrenia and premorbid IQ?\"\n",
    "\n",
    "# # Run\n",
    "# multi_retriever = MultiQueryRetriever(\n",
    "#     retriever=retriever, llm_chain=llm_chain, parser_key=\"lines\"\n",
    "# )  # \"lines\" is the key (attribute name) of the parsed output\n",
    "\n",
    "# # Results\n",
    "# docs = multi_retriever.get_relevant_documents(\n",
    "#     query=question\n",
    "# )\n",
    "# len(docs)"
   ]
  },
  {
   "cell_type": "code",
   "execution_count": 17,
   "metadata": {},
   "outputs": [],
   "source": [
    "query = 'uses of AI in nephrology'"
   ]
  },
  {
   "cell_type": "code",
   "execution_count": 18,
   "metadata": {},
   "outputs": [
    {
     "name": "stdout",
     "output_type": "stream",
     "text": [
      "What are the applications of artificial intelligence in the field of nephrology?\n"
     ]
    }
   ],
   "source": [
    "rewrite_prompt = hub.pull(\"langchain-ai/rewrite\")\n",
    "rewrite_llm = ChatOpenAI(temperature=0,openai_api_key=OPENAI_API_KEY)\n",
    "\n",
    "rewriter = rewrite_prompt | rewrite_llm | StrOutputParser() | _parse\n",
    "rewritten_input_text = rewriter.invoke({\"x\": query})\n",
    "\n",
    "logging.info(f\"Original input: {query}. Transformed input: {rewritten_input_text}\")\n",
    "\n",
    "print(rewritten_input_text)"
   ]
  },
  {
   "cell_type": "code",
   "execution_count": 20,
   "metadata": {},
   "outputs": [],
   "source": [
    "## this is the best option in terms of coherence so far, and generates exactly enough tokens\n",
    "## TO BE USED\n",
    "rag_pipeline = RetrievalQA.from_chain_type(\n",
    "        llm=ChatOpenAI(temperature=0,openai_api_key=OPENAI_API_KEY),\n",
    "        chain_type=\"stuff\",\n",
    "        verbose=True,\n",
    "        retriever = retriever,\n",
    "        chain_type_kwargs={\n",
    "            \"verbose\": True },\n",
    "    )"
   ]
  },
  {
   "cell_type": "code",
   "execution_count": 19,
   "metadata": {},
   "outputs": [
    {
     "name": "stdout",
     "output_type": "stream",
     "text": [
      "{'A Scoping Review of Artificial Intelligence Research in Rhinology.',\n",
      " 'Application of artificial intelligence in medical technologies: A systematic '\n",
      " 'review of main trends.',\n",
      " 'Artificial Intelligence in Andrology: From Semen Analysis to Image '\n",
      " 'Diagnostics.',\n",
      " 'Artificial Intelligence in Dermatopathology: An Analysis of Its Practical '\n",
      " 'Application.',\n",
      " 'Artificial Intelligence in Global Health -A Framework and Strategy for '\n",
      " 'Adoption and Sustainability.',\n",
      " 'Artificial Intelligence in Kidney Cancer.',\n",
      " 'Artificial Intelligence in Liver Transplantation.',\n",
      " 'Artificial Intelligence in Medicine: Today and Tomorrow.',\n",
      " 'Artificial Intelligence in Nephrology: Core Concepts, Clinical Applications, '\n",
      " 'and Perspectives.',\n",
      " 'Artificial Intelligence in Pediatric Nephrology-A Call for Action.',\n",
      " 'Artificial Intelligence, Machine Learning, and Cardiovascular Disease.',\n",
      " 'Artificial Intelligence-Assisted Renal Pathology: Advances and Prospects.',\n",
      " 'Artificial intelligence (AI) in medicine as a strategic valuable tool.',\n",
      " 'Artificial intelligence and machine learning in nephropathology.',\n",
      " 'Artificial intelligence and the hunt for immunological disorders.',\n",
      " 'Artificial intelligence approaches to improve kidney care.',\n",
      " 'Artificial intelligence enabled applications in kidney disease.',\n",
      " 'Artificial intelligence in endourology: emerging technology for '\n",
      " 'individualized care.',\n",
      " 'Artificial intelligence with kidney disease: A scoping review with '\n",
      " 'bibliometric analysis, PRISMA-ScR.',\n",
      " 'Evolution of a surgical system using deep learning in minimally invasive '\n",
      " 'surgery (Review).',\n",
      " \"In principle obstacles for empathic AI: why we can't replace human empathy \"\n",
      " 'in healthcare.',\n",
      " 'Kidney cancer management 3.0: can artificial intelligence make us better?',\n",
      " 'New Trends in Innovative Technologies Applying Artificial Intelligence to '\n",
      " 'Urinary Diseases.',\n",
      " 'Omics and Artificial Intelligence in Kidney Diseases.',\n",
      " 'Progress in the Development and Challenges for the Use of Artificial Kidneys '\n",
      " 'and Wearable Dialysis Devices.',\n",
      " 'Review of Artificial Intelligence-Based Signal Processing in Dialysis: '\n",
      " 'Challenges for Machine-Embedded and Complementary Applications.',\n",
      " 'The Current State of Artificial Intelligence Application in Urology.',\n",
      " 'The promise of artificial intelligence for kidney pathophysiology.',\n",
      " 'Time for a full digital approach in nephropathology: a systematic review of '\n",
      " 'current artificial intelligence applications and future directions.',\n",
      " 'Toward generalizing the use of artificial intelligence in nephrology and '\n",
      " 'kidney transplantation.',\n",
      " 'ToxNet: an artificial intelligence designed for decision support for toxin '\n",
      " 'prediction.',\n",
      " 'Translatability Analysis of National Institutes of Health-Funded Biomedical '\n",
      " 'Research That Applies Artificial Intelligence.',\n",
      " 'What is new in computer vision and artificial intelligence in medical image '\n",
      " 'analysis applications.',\n",
      " '[Application of artificial intelligence in thoracic surgery].',\n",
      " '[Artificial intelligence: a new journey in nephrology].',\n",
      " '[Research status and prospect of artificial intelligence technology in the '\n",
      " 'diagnosis of urinary system tumors].'}\n",
      "36\n"
     ]
    }
   ],
   "source": [
    "from pprint import pprint\n",
    "docs = retriever.get_relevant_documents('What are the applications of artificial intelligence in the field of nephrology?')\n",
    "titles = [el.metadata['title'] for el in docs]\n",
    "pprint(set(titles))\n",
    "print(len(set(titles)))"
   ]
  },
  {
   "cell_type": "code",
   "execution_count": 21,
   "metadata": {},
   "outputs": [
    {
     "name": "stderr",
     "output_type": "stream",
     "text": [
      "c:\\Users\\priot\\anaconda3\\envs\\nlp\\lib\\site-packages\\langchain_core\\_api\\deprecation.py:117: LangChainDeprecationWarning: The function `__call__` was deprecated in LangChain 0.1.0 and will be removed in 0.2.0. Use invoke instead.\n",
      "  warn_deprecated(\n"
     ]
    },
    {
     "name": "stdout",
     "output_type": "stream",
     "text": [
      "\n",
      "\n",
      "\u001b[1m> Entering new RetrievalQA chain...\u001b[0m\n",
      "\n",
      "\n",
      "\u001b[1m> Entering new StuffDocumentsChain chain...\u001b[0m\n",
      "\n",
      "\n",
      "\u001b[1m> Entering new LLMChain chain...\u001b[0m\n",
      "Prompt after formatting:\n",
      "\u001b[32;1m\u001b[1;3mSystem: Use the following pieces of context to answer the user's question. \n",
      "If you don't know the answer, just say that you don't know, don't try to make up an answer.\n",
      "----------------\n",
      "\" artificial intelligence ( ai ) has had a significant impact on our lives and plays many roles in various fields. by analyzing the past 30 \\ u200ayears of ai trends in the field of nephrology, using a bibliography, we wanted to know the areas of interest and future direction of ai in research related to the kidney. \"\n",
      "\n",
      "of nephrology. we define the core concepts of artificial intelligence and machine learning and cover the basics of the functioning of neural networks and deep learning. we also discuss the most recent clinical applications of artificial intelligence in nephrology and medicine ; as an example, we describe how artificial intelligence can predict the occurrence of progressive immunoglobulin a nephropathy. finally, we consider the future of artificial intelligence in clinical nephrology and its impact on medical practice, and conclude with a discussion of the ethical issues that the use of artificial\n",
      "\n",
      "\" artificial intelligence ( ai ) is considered as the next natural progression of traditional statistical techniques. advances in analytical methods and infrastructure enable ai to be applied in health care. while ai applications are relatively common in fields like ophthalmology and cardiology, its use is scarcely reported in nephrology. we present the current status of ai in research toward kidney disease and discuss future pathways for ai. the clinical applications of ai in progression to end - stage kidney disease and dialysis can be broadly subdivided into three main topics : (\n",
      "\n",
      "\" artificial intelligence ( ai ) is considered as the next natural progression of traditional statistical techniques. advances in analytical methods and infrastructure enable ai to be applied in health care. while ai applications are relatively common in fields like ophthalmology and cardiology, its use is scarcely reported in nephrology. we present the current status of ai in research toward kidney disease and discuss future pathways for ai. the clinical applications of ai in progression to end - stage kidney disease and dialysis can be broadly subdivided into three main topics : (\n",
      "\n",
      "\" artificial intelligence is playing an increasingly important role in many fields of medicine, assisting physicians in most steps of patient management. in nephrology, artificial intelligence can already be used to improve clinical care, hemodialysis prescriptions, and follow - up of transplant recipients. however, many nephrologists are still unfamiliar with the basic principles of medical artificial intelligence. this review seeks to provide an overview of medical artificial intelligence relevant to the practicing nephrologist, in all fields of nephrology. we define the core concepts of\n",
      "\n",
      "\" the rapid development of artificial intelligence ( ai ) technology, especially the progress in deep learning methods and computing power of hardware, has greatly promoted the application of ai in the field of biomedicine and nephrology. ai can predict the occurrence of acute kidney injury, identify chronic kidney disease, and assist in the analysis of kidney disease pathology, prognosis prediction and decision - making. the application of ai in the field of nephrology depends on the coordinated development of nephrology and artificial intelligence, and requires close interdisciplinary\n",
      "\n",
      "nephrology and artificial intelligence, and requires close interdisciplinary cooperation between multiple disciplines. this article describes the application and research progress of ai in nephrology and provides insights for future directions. \"\n",
      "\n",
      "\" with its robust ability to integrate and learn from large sets of clinical data, artificial intelligence ( ai ) can now play a role in diagnosis, \\ u00a0clinical decision making, and personalized medicine. it is probably the natural progression of traditional statistical techniques. currently, there are many unmet needs in nephrology and, more particularly, in the kidney transplantation ( kt ) field. the complexity and increase in the amount of data, and the multitude of nephrology registries worldwide have enabled the explos\n",
      "\n",
      "\" with its robust ability to integrate and learn from large sets of clinical data, artificial intelligence ( ai ) can now play a role in diagnosis, \\ u00a0clinical decision making, and personalized medicine. it is probably the natural progression of traditional statistical techniques. currently, there are many unmet needs in nephrology and, more particularly, in the kidney transplantation ( kt ) field. the complexity and increase in the amount of data, and the multitude of nephrology registries worldwide have enabled the explos\n",
      "\n",
      "\" artificial intelligence ( ai ) integration in nephropathology has been growing rapidly in recent years, facing several challenges including the wide range of histological techniques used, the low occurrence of certain diseases, and the need for data sharing. this narrative review retraces the history of ai in nephropathology and provides insights into potential future developments. \"\n",
      "\n",
      "deep learning. we also discuss some examples for clinical applications of artificial intelligence in pediatric nephrology, including neonatal kidney function, early recognition of acute kidney injury, renally cleared drug dosing, intrapatient variability, urinary tract infection workup in infancy, and longitudinal disease progression. furthermore, we consider the future of artificial intelligence in clinical pediatric nephrology and its potential impact on medical practice and address the ethical issues artificial intelligence raises in terms of clinical decision - making, health care provider - patient relationship, patient privacy\n",
      "\n",
      "deep learning. we also discuss some examples for clinical applications of artificial intelligence in pediatric nephrology, including neonatal kidney function, early recognition of acute kidney injury, renally cleared drug dosing, intrapatient variability, urinary tract infection workup in infancy, and longitudinal disease progression. furthermore, we consider the future of artificial intelligence in clinical pediatric nephrology and its potential impact on medical practice and address the ethical issues artificial intelligence raises in terms of clinical decision - making, health care provider - patient relationship, patient privacy\n",
      "\n",
      "\" artificial intelligence is playing an increasingly important role in many fields of clinical care to assist health care providers in patient management. in adult - focused nephrology, artificial intelligence is beginning to be used to improve clinical care, hemodialysis prescriptions, and follow - up of transplant recipients. this article provides an overview of medical artificial intelligence applications relevant to pediatric nephrology. we describe the core concepts of artificial intelligence and machine learning and cover the basics of neural networks and deep learning. we also discuss some examples for clinical\n",
      "\n",
      "\" artificial intelligence is playing an increasingly important role in many fields of clinical care to assist health care providers in patient management. in adult - focused nephrology, artificial intelligence is beginning to be used to improve clinical care, hemodialysis prescriptions, and follow - up of transplant recipients. this article provides an overview of medical artificial intelligence applications relevant to pediatric nephrology. we describe the core concepts of artificial intelligence and machine learning and cover the basics of neural networks and deep learning. we also discuss some examples for clinical\n",
      "\n",
      "\" artificial intelligence is rapidly expanding into nearly all facets of life, particularly within the field of medicine. the diagnosis, characterization, management, and treatment of kidney cancer is ripe with areas for improvement that may be met with the promises of artificial intelligence. here, we explore the impact of current research work in artificial intelligence for clinicians caring for patients with renal cancer, with a focus on the perspectives of radiologists, pathologists, and urologists. promising preliminary results indicate that artificial intelligence may assist in the diagnosis\n",
      "\n",
      "\" artificial intelligences ( ais ) are emerging in the field of medical informatics in many areas. they are mostly used for diagnosis support in medical imaging but have potential uses in many other fields of medicine where large datasets are available. \"\n",
      "\n",
      "\" artificial intelligences ( ais ) are emerging in the field of medical informatics in many areas. they are mostly used for diagnosis support in medical imaging but have potential uses in many other fields of medicine where large datasets are available. \"\n",
      "\n",
      "\" artificial intelligence technology is trending in nearly every medical area. it offers the possibility for improving analytics, therapy outcome, and user experience during therapy. in dialysis, the application of artificial intelligence as a therapy - individualization tool is led more by start - ups than consolidated players, and innovation in dialysis seems comparably stagnant. factors such as technical requirements or regulatory processes are important and necessary but can slow down the implementation of artificial intelligence due to missing data infrastructure and undefined approval processes. current\n",
      "\n",
      "results indicate that artificial intelligence may assist in the diagnosis and risk stratification of newly discovered renal masses and help guide the clinical treatment of patients with kidney cancer. however, much of the work in this field is still in its early stages, limited in its broader applicability, and hampered by small datasets, the varied appearance and presentation of kidney cancers, and the intrinsic limitations of the rigidly structured tasks artificial intelligence algorithms are trained to complete. nonetheless, the continued exploration of artificial intelligence holds promise toward improving the clinical care\n",
      "\n",
      "stratification, and individualized treatment of kidney disease patients. despite these advances in the research setting, there is still a lack of evidence showing the combination of omics technologies with artificial intelligence and its application in clinical diagnostics and care of patients with kidney disease. \"\n",
      "\n",
      "\" what are the limits of the use of artificial intelligence ( ai ) in the relational aspects of medical and nursing care? there has been a lot of recent work and applications showing the promise and efficiency of ai in clinical medicine, both at the research and treatment levels. many of the obstacles discussed in the literature are technical in character, regarding how to improve and optimize current practices in clinical medicine and also how to develop better data bases for optimal parameter adjustments and predictive algorithms. this paper argues that there are also\n",
      "\n",
      "\" what are the limits of the use of artificial intelligence ( ai ) in the relational aspects of medical and nursing care? there has been a lot of recent work and applications showing the promise and efficiency of ai in clinical medicine, both at the research and treatment levels. many of the obstacles discussed in the literature are technical in character, regarding how to improve and optimize current practices in clinical medicine and also how to develop better data bases for optimal parameter adjustments and predictive algorithms. this paper argues that there are also\n",
      "\n",
      "\" artificial intelligence ( ai ) is used in various fields of medicine, with applications encompassing all areas of medical services, such as the development of medical robots, the diagnosis and personalized treatment of diseases, and personalized healthcare. medical ai research and development have been largely focused on diagnosis, prediction, treatment, and management as an auxiliary means of patient care. ai is mainly used in the fields of personal healthcare and diagnostic imaging. in urology, substantial investments are being made in the development of urination monitoring\n",
      "\n",
      "\" despite the rapid growth of interest and diversity in applications of artificial intelligence ( ai ) to biomedical research, there are limited objective ways to characterize the potential for use of ai in clinical practice. \"\n",
      "\n",
      "\" artificial intelligence is increasingly being used to improve diagnosis and prognostication for acute and chronic kidney diseases. studies published in 2019 relied on a variety of available data sources towards this objective, including electronic health records, intraoperative physiological signals, kidney ultrasound imaging, and digitized biopsy specimens. \"\n",
      "\n",
      "\" in recent years, researchers have explored potential uses for artificial intelligence ( ai ) in medical practice [... ]. \"\n",
      "\n",
      "\" recently, artificial intelligence ( ai ) has been applied in various fields due to the development of new learning methods, such as deep learning, and the marked progress in computational processing speed. ai is also being applied in the medical field for medical image recognition and omics analysis of genomes and other data. recently, ai applications for videos of minimally invasive surgeries have also advanced, and studies on such applications are increasing. in the present review, studies that focused on the following topics were selected : i ) organ and\n",
      "\n",
      "\" recently, artificial intelligence ( ai ) has been applied in various fields due to the development of new learning methods, such as deep learning, and the marked progress in computational processing speed. ai is also being applied in the medical field for medical image recognition and omics analysis of genomes and other data. recently, ai applications for videos of minimally invasive surgeries have also advanced, and studies on such applications are increasing. in the present review, studies that focused on the following topics were selected : i ) organ and\n",
      "\n",
      "\" the application of artificial intelligence is a relatively new option to enable improved patient treatment in modern medicine and is therefore currently the focus of many research projects. in the clinical practice the application of artificial intelligence so far seems to be confined to the analysis of medical imaging. \"\n",
      "\n",
      "\" artificial intelligence holds tremendous potential for disrupting clinical medicine. here we review the current role of artificial intelligence in the kidney cancer space. \"\n",
      "\n",
      "\" artificial intelligence ( ai ) in medicine has gained a lot of momentum in the last decades and has been applied to various fields of medicine. advances in computer science, medical informatics, robotics, and the need for personalized medicine have facilitated the role of ai in modern healthcare. similarly, as in other fields, ai applications, such as machine learning, artificial neural networks, and deep learning, have shown great potential in andrology and reproductive medicine. ai - based tools are poised to become valuable assets\n",
      "\n",
      "because ai applications in nephropathology are still in their infancy, we show the power and potential of ai applications mostly in the example of oncopathology. moreover, we discuss the technological obstacles as well as the current stakeholder and regulatory concerns about developing ai applications in nephropathology from the perspective of nephropathologists and the wider nephrology community. we expect the gradual introduction of these technologies into routine diagnostics and research for selective tasks, suggesting that this technology will enhance the performance of nephropathologists rather than\n",
      "\n",
      "strategic value. the same observations apply in the field of healthcare, too. in this manuscript, we try to address key questions regarding artificial intelligence in medicine, such as what artificial intelligence is and how it works, what is its value in terms of application in medicine, and what are the prospects? \"\n",
      "\n",
      "\" artificial intelligence ( ai ) - based applications have found widespread applications in many fields of science, technology, and medicine. the use of enhanced computing power of machines in clinical medicine and diagnostics has been under exploration since the 1960s. more recently, with the advent of advances in computing, algorithms enabling machine learning, especially deep learning networks that mimic the human brain in function, there has been renewed interest to use them in clinical medicine. in cardiovascular medicine, ai - based systems have found new applications in cardiovascular imaging\n",
      "\n",
      "\" advancements based on artificial intelligence have emerged in all areas of medicine. many decisions in organ transplantation can now potentially be addressed in a more precise manner with the aid of artificial intelligence. \"\n",
      "\n",
      "\" with the rapid development of artificial intelligence technology, researchers have applied it to the diagnosis of various tumors in the urinary system in recent years, and have obtained many valuable research results. the article sorted the research status of artificial intelligence technology in the fields of renal tumors, bladder tumors and prostate tumors from three aspects : the number of papers, image data, and clinical tasks. the purpose is to summarize and analyze the research status and find new valuable research ideas in the future. the results show that the artificial\n",
      "\n",
      "intelligence such as learning, problem solving, human speech understanding, or planning and decision - making. examples of common applications of ai are visual perception ( computer vision ), speech recognition, and language translation. in this review, we discuss recent progresses in the area of dialysis and challenges for the use of ai in the development of artificial kidneys. \"\n",
      "\n",
      "\" digital imaging and advanced microscopy play a pivotal role in the diagnosis of kidney diseases. in recent years, great achievements have been made in digital imaging, providing novel approaches for precise quantitative assessments of nephropathology and relieving burdens of renal pathologists. developing novel methods of artificial intelligence ( ai ) - assisted technology through multidisciplinary interaction among computer engineers, renal specialists, and nephropathologists could prove beneficial for renal pathology diagnoses. an increasing number of publications has demonstrated the rapid growth of ai - based technology\n",
      "\n",
      "this paper is to discuss recent scientific literature and provide a perspective on the benefits, future opportunities and risks of established artificial intelligence applications in clinical practice on physicians, healthcare institutions, medical education, and bioethics. \"\n",
      "\n",
      "\" computer vision and artificial intelligence applications in medicine are becoming increasingly important day by day, especially in the field of image technology. in this paper we cover different artificial intelligence advances that tackle some of the most important worldwide medical problems such as cardiology, cancer, dermatology, neurodegenerative disorders, respiratory problems, and gastroenterology. we show how both areas have resulted in a large variety of methods that range from enhancement, detection, segmentation and characterizations of anatomical structures and lesions to complete systems that automatically identify and classify several\n",
      "\n",
      "\" artificial intelligence in medicine has allowed for efficient processing of large datasets to perform cognitive tasks that facilitate clinical decision - making, and it is an emerging area of research. this review aims to highlight the most pertinent and recent research in artificial intelligence in endourology, where it has been used to optimize stone diagnosis, support decision - making regarding management, predict stone recurrence, and provide new tools for bioinformatics research within endourology. \"\n",
      "\n",
      "\" artificial intelligence in medicine has allowed for efficient processing of large datasets to perform cognitive tasks that facilitate clinical decision - making, and it is an emerging area of research. this review aims to highlight the most pertinent and recent research in artificial intelligence in endourology, where it has been used to optimize stone diagnosis, support decision - making regarding management, predict stone recurrence, and provide new tools for bioinformatics research within endourology. \"\n",
      "\n",
      "\" artificial intelligence has pervasively transformed many industries and is beginning to shape medical practice. new use cases are being identified in subspecialty domains of medicine and, in particular, application of artificial intelligence has found its way to the practice of allergy - immunology. here, we summarize recent developments, emerging applications and obstacles to realizing full potential. \"\n",
      "\n",
      "\" artificial intelligence ( ai ) has been increasingly applied in various fields of science and technology. in line with the current research, medicine involves an increasing number of artificial intelligence technologies. the introduction of rapid ai can lead to positive and negative effects. this is a multilateral analytical literature review aimed at identifying the main branches and trends in the use of using artificial intelligence in medical technologies. \"\n",
      "\n",
      "\" artificial intelligence ( ai ) has been increasingly applied in various fields of science and technology. in line with the current research, medicine involves an increasing number of artificial intelligence technologies. the introduction of rapid ai can lead to positive and negative effects. this is a multilateral analytical literature review aimed at identifying the main branches and trends in the use of using artificial intelligence in medical technologies. \"\n",
      "\n",
      "\" we seek to determine recent advances in kidney pathophysiology that have been enabled or enhanced by artificial intelligence. we describe some of the challenges in the field as well as future directions. \"\n",
      "\n",
      "\" we seek to determine recent advances in kidney pathophysiology that have been enabled or enhanced by artificial intelligence. we describe some of the challenges in the field as well as future directions. \"\n",
      "\n",
      "\" artificial intelligence ( ai ) applications in medicine have grown considerably in recent years. ai in the forms of machine learning, natural language processing, expert systems, planning and logistics methods, and image processing networks provide great analytical aptitude. while ai methods were first conceptualized for radiology, investigations today are established across all medical specialties. the necessity for proper infrastructure, skilled labor, and access to large, well - organized data sets has kept the majority of medical ai applications in higher - income countries. however,\n",
      "\n",
      "\" artificial intelligence ( ai ) is being used in many areas of healthcare, including disease diagnosis and personalized treatment and rehabilitation management. medical ai research and development has primarily focused on diagnosis, prediction, treatment, and management as an aid to patient care. ai is being utilized primarily in the areas of personal healthcare and diagnostic imaging. in the field of urology, significant investments are being made in the development of urination monitoring systems in the field of personal healthcare and ureteral stricture and urinary stone diagnosis solutions in the\n",
      "\n",
      "\" a considerable volume of possible applications of artificial intelligence ( ai ) in the field of rhinology exists, and research in the area is rapidly evolving. \"\n",
      "Human: What are the applications of artificial intelligence in the field of nephrology?\u001b[0m\n",
      "\n",
      "\u001b[1m> Finished chain.\u001b[0m\n",
      "\n",
      "\u001b[1m> Finished chain.\u001b[0m\n",
      "\n",
      "\u001b[1m> Finished chain.\u001b[0m\n"
     ]
    },
    {
     "data": {
      "text/plain": [
       "{'query': 'What are the applications of artificial intelligence in the field of nephrology?',\n",
       " 'result': 'Artificial intelligence (AI) has various applications in the field of nephrology, including predicting the occurrence of kidney diseases like acute kidney injury and chronic kidney disease, assisting in the analysis of kidney disease pathology, prognosis prediction, decision-making, improving clinical care, hemodialysis prescriptions, follow-up of transplant recipients, and predicting the progression to end-stage kidney disease and dialysis. AI can also be used in pediatric nephrology for tasks like neonatal kidney function assessment, early recognition of acute kidney injury, drug dosing, and disease progression tracking. Additionally, AI can assist in diagnosing and prognosticating acute and chronic kidney diseases, as well as in the diagnosis and management of kidney cancer.'}"
      ]
     },
     "execution_count": 21,
     "metadata": {},
     "output_type": "execute_result"
    }
   ],
   "source": [
    "rag_pipeline(rewritten_input_text)"
   ]
  },
  {
   "cell_type": "code",
   "execution_count": 26,
   "metadata": {},
   "outputs": [
    {
     "name": "stdout",
     "output_type": "stream",
     "text": [
      "\" the accuracy and consistency of bone age assessments ( baa ) using standard methods can vary with physicians'level of experience. \"\n",
      "\" bone age is one of biological indicators of maturity used in clinical practice and it is a very important parameter of a child \\ u2019s assessment, especially in paediatric endocrinology. the most widely used method of bone age assessment is by performing a hand and wrist radiograph and its analysis with greulich - pyle or tanner - whitehouse atlases, although it has been about 60 years since they were published. due to the progress in the area of computer - aided diagnosis and application of artificial intelligence in medicine, lately, numerous programs for automatic bone age assessment have been created. most of them have been verified in clinical studies in comparison to traditional methods, showing good precision while eliminating inter - and intra - rater variability and significantly reducing the time of assessment. additionally, there are available methods for assessment of bone age which avoid x - ray exposure, using modalities such as ultrasound or magnetic resonance imaging. \"\n",
      "\" bone age is one of biological indicators of maturity used in clinical practice and it is a very important parameter of a child \\ u2019s assessment, especially in paediatric endocrinology. the most widely used method of bone age assessment is by performing a hand and wrist radiograph and its analysis with greulich - pyle or tanner - whitehouse atlases, although it has been about 60 years since they were published. due to the progress in the area of computer - aided diagnosis and application of artificial intelligence in medicine, lately, numerous programs for automatic bone age assessment have been created. most of them have been verified in clinical studies in comparison to traditional methods, showing good precision while eliminating inter - and intra - rater variability and significantly reducing the time of assessment. additionally, there are available methods for assessment of bone age which avoid x - ray exposure, using modalities such as ultrasound or magnetic resonance imaging. \"\n"
     ]
    }
   ],
   "source": [
    "docs = retriever.get_relevant_documents(rewritten_input_text)\n",
    "\n",
    "for doc in docs:\n",
    "    print(doc.page_content)"
   ]
  },
  {
   "cell_type": "code",
   "execution_count": 21,
   "metadata": {},
   "outputs": [
    {
     "name": "stdout",
     "output_type": "stream",
     "text": [
      "---- Answer ----\n",
      "Hand and wrist radiograph analysis with Greulich-Pyle or Tanner-Whitehouse atlases is the most commonly used method for bone age assessment in medical studies.\n"
     ]
    }
   ],
   "source": [
    "model = ChatOpenAI(temperature=0,openai_api_key=OPENAI_API_KEY)\n",
    "\n",
    "ANSWER_PROMPT = ChatPromptTemplate.from_template(\n",
    "    \"\"\"You are an assistant for question-answering tasks. Use the following pieces of retrieved context to answer the question. If you don't know the answer, just say that you don't know. Be as verbose and educational in your response as possible. Keep your answers shorter than 25 words.\n",
    "    \n",
    "    context: {context}\n",
    "    Question: \"{question}\"\n",
    "    Answer:\n",
    "    \"\"\"\n",
    ")\n",
    "\n",
    "ANSWER_PROMPT_medical= ChatPromptTemplate.from_template(\n",
    "    \"\"\"You are an assistant for question-answering tasks. Use the following pieces of retrieved context to answer the question. If you don't know the answer, just say that you don't know. Assume that the reader has in depth knowledge into the medical field and is familiar with all the terms used, so they do not need to be explained. Keep your answers shorter than 25 words.\n",
    "    \n",
    "    context: {context}\n",
    "    Question: \"{question}\"\n",
    "    Answer:\n",
    "    \"\"\"\n",
    ")\n",
    "\n",
    "chain = (\n",
    "    {\"context\": retriever, \"question\": RunnablePassthrough()}\n",
    "    | ANSWER_PROMPT_medical\n",
    "    | model\n",
    "    | StrOutputParser()\n",
    ")\n",
    "\n",
    "ans = chain.invoke(rewritten_input_text)\n",
    "\n",
    "print(\"---- Answer ----\")\n",
    "print(ans)"
   ]
  },
  {
   "cell_type": "code",
   "execution_count": null,
   "metadata": {},
   "outputs": [],
   "source": []
  },
  {
   "cell_type": "code",
   "execution_count": null,
   "metadata": {},
   "outputs": [],
   "source": [
    "## The grand scientific challenge in materials research is to accelerate materials discovery and development for emerging and future technologies by integrating automation with artificial intelligence\n",
    "# \"Between 2019 Q4 and 2020 Q3 phenethyl 4 ANPP was detected in 25 1 054 fentanyl cases in the USA\""
   ]
  },
  {
   "cell_type": "code",
   "execution_count": 16,
   "metadata": {},
   "outputs": [
    {
     "ename": "TypeError",
     "evalue": "dump() missing 1 required positional argument: 'fp'",
     "output_type": "error",
     "traceback": [
      "\u001b[1;31m---------------------------------------------------------------------------\u001b[0m",
      "\u001b[1;31mTypeError\u001b[0m                                 Traceback (most recent call last)",
      "Cell \u001b[1;32mIn[16], line 14\u001b[0m\n\u001b[0;32m     11\u001b[0m     item[\u001b[38;5;124m\"\u001b[39m\u001b[38;5;124mgenerated_answer\u001b[39m\u001b[38;5;124m\"\u001b[39m] \u001b[38;5;241m=\u001b[39m ans\n\u001b[0;32m     13\u001b[0m \u001b[38;5;28;01mwith\u001b[39;00m \u001b[38;5;28mopen\u001b[39m(\u001b[38;5;124m\"\u001b[39m\u001b[38;5;124m../data/evaluation_dataset_openai.json\u001b[39m\u001b[38;5;124m\"\u001b[39m, \u001b[38;5;124m'\u001b[39m\u001b[38;5;124mw\u001b[39m\u001b[38;5;124m'\u001b[39m) \u001b[38;5;28;01mas\u001b[39;00m file:\n\u001b[1;32m---> 14\u001b[0m     file\u001b[38;5;241m.\u001b[39mwrite(\u001b[43mjson\u001b[49m\u001b[38;5;241;43m.\u001b[39;49m\u001b[43mdump\u001b[49m\u001b[43m(\u001b[49m\u001b[43mmanual_inspection\u001b[49m\u001b[43m,\u001b[49m\u001b[43m \u001b[49m\u001b[43mindent\u001b[49m\u001b[38;5;241;43m=\u001b[39;49m\u001b[38;5;241;43m2\u001b[39;49m\u001b[43m)\u001b[49m)\n",
      "\u001b[1;31mTypeError\u001b[0m: dump() missing 1 required positional argument: 'fp'"
     ]
    }
   ],
   "source": [
    "import json\n",
    "\n",
    "with open(\"../data/evaluation_dataset.json\", 'r') as file:\n",
    "    json_data = file.read()\n",
    "\n",
    "manual_inspection = json.loads(json_data)\n",
    "\n",
    "for item in manual_inspection:\n",
    "    ans = chain.invoke(rewriter.invoke({\"x\": item[\"question\"]}))\n",
    "    # print(\"Question: {}\\nGround truth: {}\\nGenerated answer: {}\\n\\n\".format(item[\"question\"], item[\"paragraph\"], ans))\n",
    "    item[\"generated_answer\"] = ans\n"
   ]
  },
  {
   "cell_type": "code",
   "execution_count": 18,
   "metadata": {},
   "outputs": [],
   "source": [
    "\n",
    "with open(\"../data/evaluation_dataset_openai.json\", 'w') as file:\n",
    "    json.dump(manual_inspection,file, indent=2)"
   ]
  }
 ],
 "metadata": {
  "kernelspec": {
   "display_name": "computing",
   "language": "python",
   "name": "python3"
  },
  "language_info": {
   "codemirror_mode": {
    "name": "ipython",
    "version": 3
   },
   "file_extension": ".py",
   "mimetype": "text/x-python",
   "name": "python",
   "nbconvert_exporter": "python",
   "pygments_lexer": "ipython3",
   "version": "3.8.18"
  }
 },
 "nbformat": 4,
 "nbformat_minor": 2
}
