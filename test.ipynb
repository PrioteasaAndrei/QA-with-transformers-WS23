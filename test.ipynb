{
 "cells": [
  {
   "cell_type": "code",
   "execution_count": 4,
   "metadata": {},
   "outputs": [
    {
     "name": "stdout",
     "output_type": "stream",
     "text": [
      "Question: How many fentanyl cases in the USA between 2019 Q4 and 2020 Q3 were found to contain phenethyl 4 ANPP?\n",
      "Paragraph: Between 2019 Q4 and 2020 Q3 phenethyl 4 ANPP was detected in 25 1 054 fentanyl cases in the USA\n",
      "Title of Abstract: Phenethyl 4 ANPP A Marginally Active Byproduct Suggesting a Switch in Illicit Fentanyl Synthesis Routes\n",
      "\n",
      "Question: What surgical techniques are commonly used for the management of benign prostatic enlargement (BPE)?\n",
      "Paragraph: A great variety of surgical techniques are available for surgical management with three of the most common being monopolar transurethral resection of the prostate mTUR P bipolar transurethral resection of the prostate bTUR P and bipolar transurethral vaporization of the prostate bTUVis\n",
      "Title of Abstract: Cluster Analysis Assessment in Proposing a Surgical Technique for Benign Prostatic Enlargement\n",
      "\n",
      "Question: What is one of the five methodological areas identified by the ISPOR emerging good practices task force for the application of machine learning in health economics and outcomes research (HEOR)?\n",
      "Paragraph: The task force identified 5 methodological areas where ML could enhance HEOR 1 cohort selection identifying samples with greater specificity with respect to inclusion criteria\n",
      "Title of Abstract: Machine Learning Methods in Health Economics and Outcomes Research The PALISADE Checklist A Good Practices Report of an ISPOR Task Force\n",
      "\n",
      "Question: What is the achieved classification accuracy for fall detection through simulations in the hardware module based on the Hopfield Neural Network?\n",
      "Paragraph: The designs are checked with validation scenarios and the experiment is completed with a Hopfield neural network in the analog module Through simulations the classification accuracy of the fall data reached 88 9\n",
      "Title of Abstract: Hardware Based Hopfield Neuromorphic Computing for Fall Detection\n",
      "\n",
      "Question: What deep learning model is employed for Covid-19 detection in chest X-ray images?\n",
      "Paragraph: A deep learning based model i e faster regions with CNNs Faster RCNN with ResNet 101 is applied on X Ray images of the chest for Covid 19 detection\n",
      "Title of Abstract: An IoT Based Deep Learning Framework for Early Assessment of Covid 19\n",
      "\n",
      "Question: How is fetal head circumference (HC) typically measured in prenatal ultrasound screening?\n",
      "Paragraph: Fetal head circumference (HC) in prenatal ultrasound screening is usually measured manually by sonographers in two-dimensional (2D) ultrasound images\n",
      "Title of Abstract: A new approach to automatic measure fetal head circumference in ultrasound images using convolutional neural networks\n",
      "\n",
      "Question: What was announced as Australia's 10th National Health Priority in 2019?\n",
      "Paragraph: Highlighting the critical importance of research in this area Quality Use of Medicines and Medicine Safety was announced as Australia s 10th National Health Priority in 2019\n",
      "Title of Abstract: The Medicines Intelligence Centre of Research Excellence Co creating real world evidence to support the evidentiary needs of Australian medicines regulators and payers\n",
      "\n",
      "Question: What is the recommended mode of delivery for pregnant women with achondroplasia?\n",
      "Paragraph: Pregnant women with achondroplasia must undergo cesarean section delivery\n",
      "Title of Abstract: Legare JM 1\n",
      "\n",
      "Question: How is the diagnosis of MPS II typically established in a female proband with suggestive clinical features?\n",
      "Paragraph: The diagnosis of MPS II is usually established in a female proband with suggestive clinical features by identification of a heterozygous IDS pathogenic variant on molecular genetic testing\n",
      "Title of Abstract: Scarpa M 1\n",
      "\n",
      "Question: How is diastrophic dysplasia inherited?\n",
      "Paragraph: Diastrophic dysplasia is inherited in an autosomal recessive manner\n",
      "Title of Abstract: Unger S 1 Superti Furga A 2\n",
      "\n",
      "Question: What were the most commonly used methods for bone age assessment in the studies reviewed?\n",
      "Paragraph: BoneXpert automated software was the most commonly used software followed by DL models and ML models in the studies for assessment of bone age\n",
      "Title of Abstract: Use of artificial intelligence in determination of bone age of the healthy individuals A scoping review\n",
      "\n",
      "Question: What was the highest score given to an answer in the assessment of ChatGPT's information on allergic rhinitis?\n",
      "Paragraph: The highest score given to an answer was 5 indicating no inaccuracies\n",
      "Title of Abstract: Artificial intelligence and allergic rhinitis does ChatGPT increase or impair the knowledge\n",
      "\n",
      "Question: What is FASD?\n",
      "Paragraph: Fetal Alcohol Spectrum Disorder (FASD) is a collective name for lifelong physical and neurodevelopmental problems caused by the gestational consumption of alcohol affecting fetal development\n",
      "Title of Abstract: Neuropsychological evaluation of children and adolescentswith fetal alcohol spectrum disordersin the Brazilian population\n",
      "\n",
      "Question: What is the duration of the scientific collaboration between Novartis Pharmaceuticals Corporation and the FDA?\n",
      "Paragraph: In 2020 Novartis Pharmaceuticals Corporation and the U S Food and Drug Administration FDA started a 4 year scientific collaboration to approach complex new data modalities and advanced analytics\n",
      "Title of Abstract: Methodology for good machine learning with multi omics data\n",
      "\n",
      "Question: What genetic correlation was found between intracranial volume (ICV) and years of education (EduYears) using genome-wide association studies (GWAS)?\n",
      "Paragraph: Using bivariate LD Score regression we found a genetic correlation between intracranial volume ICV and years of education EduYears of 0 41\n",
      "Title of Abstract: The causal influence of brain size on human intelligence Evidence from within family phenotypic associations and GWAS modeling\n",
      "\n",
      "Question: What are Objective Retinal prostheses?\n",
      "Paragraph: Objective Retinal prostheses are promising devices to restore vision for patients with severe age related macular degeneration or retinitis pigmentosa disease\n",
      "Title of Abstract: Artificial intelligence techniques for retinal prostheses a comprehensive review and future direction\n",
      "\n",
      "Question: What was the association between gestational age at birth and Full Scale Intelligence Quotient (FSIQ)?\n",
      "Paragraph: Gestational age at birth showed a positive association with Full Scale Intelligence Quotient FSIQ with the average FSIQ score increasing by 1 6 points for each week\n",
      "Title of Abstract: Cognitive and Behavioral Development of 9 Year Old Children After Maternal Cancer During Pregnancy A Prospective Multicenter Cohort Study\n",
      "\n",
      "Question: What is the Tuberous Sclerosis 2000 Study?\n",
      "Paragraph: The Tuberous Sclerosis 2000 Study is a prospective longitudinal study of TSC\n",
      "Title of Abstract: Epilepsy severity mediates association between mutation type and ADHD symptoms in tuberous sclerosis complex\n",
      "\n",
      "Question: How many meta topologies were extracted in neuroepithelial tumors?\n",
      "Paragraph: In neuroepithelial tumors six meta topologies were extracted each detailing a transpallial pattern with distinct parenchymal and ventricular compositions\n",
      "Title of Abstract: Meta topologies define distinct anatomical classes of brain tumours linked to histology and survival\n",
      "\n",
      "Question: What is the gauge factor of the hydrogel strain sensors at 100-1100 strain?\n",
      "Paragraph: excellent strain sensitivity gauge factor 11 566 at 100 1100\n",
      "Title of Abstract: Carbon Nanotubes and Silica polyaniline Core Shell Particles Synergistically Enhance the Toughness and Electrical Conductivity in Hydrophobic Associated Hydrogels\n",
      "\n"
     ]
    }
   ],
   "source": [
    "import json\n",
    "\n",
    "eval_data_path='evaluation_dataset.json'\n",
    "\n",
    "def eval(eval_data_path=eval_data_path):\n",
    "    with open(eval_data_path, 'r') as file:\n",
    "        json_data = file.read()\n",
    "\n",
    "    parsed_json = json.loads(json_data)\n",
    "\n",
    "    for entry in parsed_json:\n",
    "        print(\"Question:\", entry[\"question\"])\n",
    "        print(\"Paragraph:\", entry[\"paragraph\"])\n",
    "        print(\"Title of Abstract:\", entry[\"title of abstract\"])\n",
    "        print()\n",
    "\n",
    "\n",
    "eval(eval_data_path)"
   ]
  },
  {
   "cell_type": "code",
   "execution_count": 8,
   "metadata": {},
   "outputs": [
    {
     "ename": "ValueError",
     "evalue": "time data 'ana are mere' does not match format '%Y-%m-%d %H:%M:%S'",
     "output_type": "error",
     "traceback": [
      "\u001b[1;31m---------------------------------------------------------------------------\u001b[0m",
      "\u001b[1;31mValueError\u001b[0m                                Traceback (most recent call last)",
      "Cell \u001b[1;32mIn[8], line 2\u001b[0m\n\u001b[0;32m      1\u001b[0m \u001b[38;5;28;01mfrom\u001b[39;00m \u001b[38;5;21;01mdatetime\u001b[39;00m \u001b[38;5;28;01mimport\u001b[39;00m datetime\n\u001b[1;32m----> 2\u001b[0m date_object \u001b[38;5;241m=\u001b[39m \u001b[43mdatetime\u001b[49m\u001b[38;5;241;43m.\u001b[39;49m\u001b[43mstrptime\u001b[49m\u001b[43m(\u001b[49m\u001b[38;5;124;43m\"\u001b[39;49m\u001b[38;5;124;43mana are mere\u001b[39;49m\u001b[38;5;124;43m\"\u001b[39;49m\u001b[43m,\u001b[49m\u001b[43m \u001b[49m\u001b[38;5;124;43m\"\u001b[39;49m\u001b[38;5;124;43m%\u001b[39;49m\u001b[38;5;124;43mY-\u001b[39;49m\u001b[38;5;124;43m%\u001b[39;49m\u001b[38;5;124;43mm-\u001b[39;49m\u001b[38;5;132;43;01m%d\u001b[39;49;00m\u001b[38;5;124;43m \u001b[39;49m\u001b[38;5;124;43m%\u001b[39;49m\u001b[38;5;124;43mH:\u001b[39;49m\u001b[38;5;124;43m%\u001b[39;49m\u001b[38;5;124;43mM:\u001b[39;49m\u001b[38;5;124;43m%\u001b[39;49m\u001b[38;5;124;43mS\u001b[39;49m\u001b[38;5;124;43m\"\u001b[39;49m\u001b[43m)\u001b[49m\n\u001b[0;32m      3\u001b[0m iso_formatted_date \u001b[38;5;241m=\u001b[39m date_object\u001b[38;5;241m.\u001b[39misoformat()\n",
      "File \u001b[1;32mc:\\Users\\priot\\anaconda3\\envs\\computing\\Lib\\_strptime.py:568\u001b[0m, in \u001b[0;36m_strptime_datetime\u001b[1;34m(cls, data_string, format)\u001b[0m\n\u001b[0;32m    565\u001b[0m \u001b[38;5;28;01mdef\u001b[39;00m \u001b[38;5;21m_strptime_datetime\u001b[39m(\u001b[38;5;28mcls\u001b[39m, data_string, \u001b[38;5;28mformat\u001b[39m\u001b[38;5;241m=\u001b[39m\u001b[38;5;124m\"\u001b[39m\u001b[38;5;132;01m%a\u001b[39;00m\u001b[38;5;124m \u001b[39m\u001b[38;5;124m%\u001b[39m\u001b[38;5;124mb \u001b[39m\u001b[38;5;132;01m%d\u001b[39;00m\u001b[38;5;124m \u001b[39m\u001b[38;5;124m%\u001b[39m\u001b[38;5;124mH:\u001b[39m\u001b[38;5;124m%\u001b[39m\u001b[38;5;124mM:\u001b[39m\u001b[38;5;124m%\u001b[39m\u001b[38;5;124mS \u001b[39m\u001b[38;5;124m%\u001b[39m\u001b[38;5;124mY\u001b[39m\u001b[38;5;124m\"\u001b[39m):\n\u001b[0;32m    566\u001b[0m \u001b[38;5;250m    \u001b[39m\u001b[38;5;124;03m\"\"\"Return a class cls instance based on the input string and the\u001b[39;00m\n\u001b[0;32m    567\u001b[0m \u001b[38;5;124;03m    format string.\"\"\"\u001b[39;00m\n\u001b[1;32m--> 568\u001b[0m     tt, fraction, gmtoff_fraction \u001b[38;5;241m=\u001b[39m \u001b[43m_strptime\u001b[49m\u001b[43m(\u001b[49m\u001b[43mdata_string\u001b[49m\u001b[43m,\u001b[49m\u001b[43m \u001b[49m\u001b[38;5;28;43mformat\u001b[39;49m\u001b[43m)\u001b[49m\n\u001b[0;32m    569\u001b[0m     tzname, gmtoff \u001b[38;5;241m=\u001b[39m tt[\u001b[38;5;241m-\u001b[39m\u001b[38;5;241m2\u001b[39m:]\n\u001b[0;32m    570\u001b[0m     args \u001b[38;5;241m=\u001b[39m tt[:\u001b[38;5;241m6\u001b[39m] \u001b[38;5;241m+\u001b[39m (fraction,)\n",
      "File \u001b[1;32mc:\\Users\\priot\\anaconda3\\envs\\computing\\Lib\\_strptime.py:349\u001b[0m, in \u001b[0;36m_strptime\u001b[1;34m(data_string, format)\u001b[0m\n\u001b[0;32m    347\u001b[0m found \u001b[38;5;241m=\u001b[39m format_regex\u001b[38;5;241m.\u001b[39mmatch(data_string)\n\u001b[0;32m    348\u001b[0m \u001b[38;5;28;01mif\u001b[39;00m \u001b[38;5;129;01mnot\u001b[39;00m found:\n\u001b[1;32m--> 349\u001b[0m     \u001b[38;5;28;01mraise\u001b[39;00m \u001b[38;5;167;01mValueError\u001b[39;00m(\u001b[38;5;124m\"\u001b[39m\u001b[38;5;124mtime data \u001b[39m\u001b[38;5;132;01m%r\u001b[39;00m\u001b[38;5;124m does not match format \u001b[39m\u001b[38;5;132;01m%r\u001b[39;00m\u001b[38;5;124m\"\u001b[39m \u001b[38;5;241m%\u001b[39m\n\u001b[0;32m    350\u001b[0m                      (data_string, \u001b[38;5;28mformat\u001b[39m))\n\u001b[0;32m    351\u001b[0m \u001b[38;5;28;01mif\u001b[39;00m \u001b[38;5;28mlen\u001b[39m(data_string) \u001b[38;5;241m!=\u001b[39m found\u001b[38;5;241m.\u001b[39mend():\n\u001b[0;32m    352\u001b[0m     \u001b[38;5;28;01mraise\u001b[39;00m \u001b[38;5;167;01mValueError\u001b[39;00m(\u001b[38;5;124m\"\u001b[39m\u001b[38;5;124munconverted data remains: \u001b[39m\u001b[38;5;132;01m%s\u001b[39;00m\u001b[38;5;124m\"\u001b[39m \u001b[38;5;241m%\u001b[39m\n\u001b[0;32m    353\u001b[0m                       data_string[found\u001b[38;5;241m.\u001b[39mend():])\n",
      "\u001b[1;31mValueError\u001b[0m: time data 'ana are mere' does not match format '%Y-%m-%d %H:%M:%S'"
     ]
    }
   ],
   "source": [
    "from datetime import datetime\n",
    "date_object = datetime.strptime(\"ana are mere\", \"%Y-%m-%d %H:%M:%S\")\n",
    "iso_formatted_date = date_object.isoformat()"
   ]
  }
 ],
 "metadata": {
  "kernelspec": {
   "display_name": "computing",
   "language": "python",
   "name": "python3"
  },
  "language_info": {
   "codemirror_mode": {
    "name": "ipython",
    "version": 3
   },
   "file_extension": ".py",
   "mimetype": "text/x-python",
   "name": "python",
   "nbconvert_exporter": "python",
   "pygments_lexer": "ipython3",
   "version": "3.11.5"
  }
 },
 "nbformat": 4,
 "nbformat_minor": 2
}
